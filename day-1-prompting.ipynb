{
 "cells": [
  {
   "cell_type": "markdown",
   "id": "4779c383",
   "metadata": {
    "id": "jkxRSYjzA1oX",
    "papermill": {
     "duration": 0.013418,
     "end_time": "2025-04-02T10:08:38.530233",
     "exception": false,
     "start_time": "2025-04-02T10:08:38.516815",
     "status": "completed"
    },
    "tags": []
   },
   "source": [
    "##### Copyright 2025 Google LLC."
   ]
  },
  {
   "cell_type": "code",
   "execution_count": 1,
   "id": "489a8bc0",
   "metadata": {
    "cellView": "form",
    "execution": {
     "iopub.execute_input": "2025-04-02T10:08:38.558768Z",
     "iopub.status.busy": "2025-04-02T10:08:38.558237Z",
     "iopub.status.idle": "2025-04-02T10:08:38.564382Z",
     "shell.execute_reply": "2025-04-02T10:08:38.563466Z"
    },
    "id": "5u5OZ2ShA3BA",
    "papermill": {
     "duration": 0.022453,
     "end_time": "2025-04-02T10:08:38.566551",
     "exception": false,
     "start_time": "2025-04-02T10:08:38.544098",
     "status": "completed"
    },
    "tags": []
   },
   "outputs": [],
   "source": [
    "# @title Licensed under the Apache License, Version 2.0 (the \"License\");\n",
    "# you may not use this file except in compliance with the License.\n",
    "# You may obtain a copy of the License at\n",
    "#\n",
    "# https://www.apache.org/licenses/LICENSE-2.0\n",
    "#\n",
    "# Unless required by applicable law or agreed to in writing, software\n",
    "# distributed under the License is distributed on an \"AS IS\" BASIS,\n",
    "# WITHOUT WARRANTIES OR CONDITIONS OF ANY KIND, either express or implied.\n",
    "# See the License for the specific language governing permissions and\n",
    "# limitations under the License."
   ]
  },
  {
   "cell_type": "markdown",
   "id": "9b01504f",
   "metadata": {
    "id": "csNPnkuCobmG",
    "papermill": {
     "duration": 0.012278,
     "end_time": "2025-04-02T10:08:38.591518",
     "exception": false,
     "start_time": "2025-04-02T10:08:38.579240",
     "status": "completed"
    },
    "tags": []
   },
   "source": [
    "# Day 1 - Prompting\n",
    "\n",
    "Welcome to the Kaggle 5-day Generative AI course!\n",
    "\n",
    "This notebook will show you how to get started with the Gemini API and walk you through some of the example prompts and techniques that you can also read about in the Prompting whitepaper. You don't need to read the whitepaper to use this notebook, but the papers will give you some theoretical context and background to complement this interactive notebook.\n",
    "\n",
    "\n",
    "## Before you begin\n",
    "\n",
    "In this notebook, you'll start exploring prompting using the Python SDK and AI Studio. For some inspiration, you might enjoy exploring some apps that have been built using the Gemini family of models. Here are a few that we like, and we think you will too.\n",
    "\n",
    "* [TextFX](https://textfx.withgoogle.com/) is a suite of AI-powered tools for rappers, made in collaboration with Lupe Fiasco,\n",
    "* [SQL Talk](https://sql-talk-r5gdynozbq-uc.a.run.app/) shows how you can talk directly to a database using the Gemini API,\n",
    "* [NotebookLM](https://notebooklm.google/) uses Gemini models to build your own personal AI research assistant.\n",
    "\n",
    "\n",
    "## For help\n",
    "\n",
    "**Common issues are covered in the [FAQ and troubleshooting guide](https://www.kaggle.com/code/markishere/day-0-troubleshooting-and-faqs).**\n",
    "\n",
    "## New for Gemini 2.0!\n",
    "\n",
    "This course material was first launched in November 2024. The AI and LLM space is moving incredibly fast, so we have made some updates to use the latest models and capabilities.\n",
    "\n",
    "* These codelabs have been updated to use the Gemini 2.0 family of models.\n",
    "* The Python SDK has been updated from `google-generativeai` to the new, unified [`google-genai`](https://pypi.org/project/google-genai) SDK.\n",
    "  * This new SDK works with both the developer Gemini API as well as Google Cloud Vertex AI, and switching is [as simple as changing some fields](https://pypi.org/project/google-genai/#:~:text=.Client%28%29-,API%20Selection,-By%20default%2C%20the).\n",
    "* New model capabilities have been added to the relevant codelabs, such as \"thinking mode\" in this lab.\n",
    "* Day 1 includes a new [Evaluation codelab](https://www.kaggle.com/code/markishere/day-1-evaluation-and-structured-output)."
   ]
  },
  {
   "attachments": {
    "d8299597-f771-4195-ac94-1d6f658ef2bd.png": {
     "image/png": "[encoded data removed]"
    },
    "ed25e346-2e15-4ab0-bc22-503eb1845e66.png": {
     "image/png": "[encoded data removed]"
    }
   },
   "cell_type": "markdown",
   "id": "b7d70225",
   "metadata": {
    "id": "f00ea7c99e44",
    "papermill": {
     "duration": 0.012301,
     "end_time": "2025-04-02T10:08:38.616402",
     "exception": false,
     "start_time": "2025-04-02T10:08:38.604101",
     "status": "completed"
    },
    "tags": []
   },
   "source": [
    "## Get started with Kaggle notebooks\n",
    "\n",
    "If this is your first time using a Kaggle notebook, welcome! You can read about how to use Kaggle notebooks [in the docs](https://www.kaggle.com/docs/notebooks).\n",
    "\n",
    "First, you will need to phone verify your account at kaggle.com/settings.\n",
    "\n",
    "![](https://storage.googleapis.com/kaggle-media/Images/5dgai_0.png)"
   ]
  },
  {
   "cell_type": "markdown",
   "id": "40f3c293",
   "metadata": {
    "papermill": {
     "duration": 0.012254,
     "end_time": "2025-04-02T10:08:38.641197",
     "exception": false,
     "start_time": "2025-04-02T10:08:38.628943",
     "status": "completed"
    },
    "tags": []
   },
   "source": [
    "To run this notebook, as well as the others in this course, you will need to make a copy, or fork, the notebook. Look for the `Copy and Edit` button in the top-right, and **click it** to make an editable, private copy of the notebook. It should look like this one:\n",
    "\n",
    "![Copy and Edit button](https://storage.googleapis.com/kaggle-media/Images/5gdai_sc_1.png)\n",
    "\n",
    "Your copy will now have a ▶️ **Run** button next to each code cell that you can press to execute that cell. These notebooks are expected to be run in order from top-to-bottom, but you are encouraged to add new cells, run your own code and explore. If you get stuck, you can try the `Factory reset` option in the `Run` menu, or head back to the original notebook and make a fresh copy.\n",
    "\n",
    "![Run cell button](https://storage.googleapis.com/kaggle-media/Images/5gdai_sc_2.png)\n",
    "\n",
    "### Problems?\n",
    "\n",
    "If you have any problems, head over to the [Kaggle Discord](https://discord.com/invite/kaggle), find the [`#5dgai-q-and-a` channel](https://discord.com/channels/1101210829807956100/1303438695143178251) and ask for help."
   ]
  },
  {
   "cell_type": "markdown",
   "id": "c467a0b5",
   "metadata": {
    "id": "ExkOXcPxtTb5",
    "papermill": {
     "duration": 0.012143,
     "end_time": "2025-04-02T10:08:38.665791",
     "exception": false,
     "start_time": "2025-04-02T10:08:38.653648",
     "status": "completed"
    },
    "tags": []
   },
   "source": [
    "## Get started with the Gemini API\n",
    "\n",
    "All of the exercises in this notebook will use the [Gemini API](https://ai.google.dev/gemini-api/) by way of the [Python SDK](https://pypi.org/project/google-genai/). Each of these prompts can be accessed directly in [Google AI Studio](https://aistudio.google.com/) too, so if you would rather use a web interface and skip the code for this activity, look for the <img src=\"https://ai.google.dev/site-assets/images/marketing/home/icon-ais.png\" style=\"height: 24px\" height=24/> AI Studio link on each prompt."
   ]
  },
  {
   "cell_type": "markdown",
   "id": "0b0776d4",
   "metadata": {
    "papermill": {
     "duration": 0.012503,
     "end_time": "2025-04-02T10:08:38.690724",
     "exception": false,
     "start_time": "2025-04-02T10:08:38.678221",
     "status": "completed"
    },
    "tags": []
   },
   "source": [
    "Next, you will need to add your API key to your Kaggle Notebook as a Kaggle User Secret.\n",
    "\n",
    "![](https://storage.googleapis.com/kaggle-media/Images/5dgai_1.png)\n",
    "![](https://storage.googleapis.com/kaggle-media/Images/5dgai_2.png)\n",
    "![](https://storage.googleapis.com/kaggle-media/Images/5dgai_3.png)\n",
    "![](https://storage.googleapis.com/kaggle-media/Images/5dgai_4.png)"
   ]
  },
  {
   "cell_type": "markdown",
   "id": "175bb39d",
   "metadata": {
    "id": "UAjUV3BsvFXQ",
    "papermill": {
     "duration": 0.012294,
     "end_time": "2025-04-02T10:08:38.715353",
     "exception": false,
     "start_time": "2025-04-02T10:08:38.703059",
     "status": "completed"
    },
    "tags": []
   },
   "source": [
    "### Install the SDK"
   ]
  },
  {
   "cell_type": "code",
   "execution_count": 2,
   "id": "3c6c5466",
   "metadata": {
    "execution": {
     "iopub.execute_input": "2025-04-02T10:08:38.743595Z",
     "iopub.status.busy": "2025-04-02T10:08:38.743193Z",
     "iopub.status.idle": "2025-04-02T10:08:57.849023Z",
     "shell.execute_reply": "2025-04-02T10:08:57.847542Z"
    },
    "id": "NzwzJFU9LqkJ",
    "papermill": {
     "duration": 19.123122,
     "end_time": "2025-04-02T10:08:57.851956",
     "exception": false,
     "start_time": "2025-04-02T10:08:38.728834",
     "status": "completed"
    },
    "tags": []
   },
   "outputs": [],
   "source": [
    "!pip uninstall -qqy jupyterlab  # Remove unused packages from Kaggle's base image that conflict\n",
    "!pip install -U -q \"google-genai==1.7.0\""
   ]
  },
  {
   "cell_type": "markdown",
   "id": "61795caf",
   "metadata": {
    "papermill": {
     "duration": 0.012304,
     "end_time": "2025-04-02T10:08:57.877110",
     "exception": false,
     "start_time": "2025-04-02T10:08:57.864806",
     "status": "completed"
    },
    "tags": []
   },
   "source": [
    "Import the SDK and some helpers for rendering the output."
   ]
  },
  {
   "cell_type": "code",
   "execution_count": 3,
   "id": "0d9bdced",
   "metadata": {
    "execution": {
     "iopub.execute_input": "2025-04-02T10:08:57.904509Z",
     "iopub.status.busy": "2025-04-02T10:08:57.904077Z",
     "iopub.status.idle": "2025-04-02T10:08:59.286609Z",
     "shell.execute_reply": "2025-04-02T10:08:59.285529Z"
    },
    "id": "5DwxYIRavMST",
    "papermill": {
     "duration": 1.399266,
     "end_time": "2025-04-02T10:08:59.288922",
     "exception": false,
     "start_time": "2025-04-02T10:08:57.889656",
     "status": "completed"
    },
    "tags": []
   },
   "outputs": [],
   "source": [
    "from google import genai\n",
    "from google.genai import types\n",
    "\n",
    "from IPython.display import HTML, Markdown, display"
   ]
  },
  {
   "cell_type": "markdown",
   "id": "f64c25fa",
   "metadata": {
    "papermill": {
     "duration": 0.01236,
     "end_time": "2025-04-02T10:08:59.314513",
     "exception": false,
     "start_time": "2025-04-02T10:08:59.302153",
     "status": "completed"
    },
    "tags": []
   },
   "source": [
    "Set up a retry helper. This allows you to \"Run all\" without worrying about per-minute quota."
   ]
  },
  {
   "cell_type": "code",
   "execution_count": 4,
   "id": "8d1ce1c2",
   "metadata": {
    "execution": {
     "iopub.execute_input": "2025-04-02T10:08:59.343062Z",
     "iopub.status.busy": "2025-04-02T10:08:59.342541Z",
     "iopub.status.idle": "2025-04-02T10:08:59.516213Z",
     "shell.execute_reply": "2025-04-02T10:08:59.515134Z"
    },
    "papermill": {
     "duration": 0.19085,
     "end_time": "2025-04-02T10:08:59.519168",
     "exception": false,
     "start_time": "2025-04-02T10:08:59.328318",
     "status": "completed"
    },
    "tags": []
   },
   "outputs": [],
   "source": [
    "from google.api_core import retry\n",
    "\n",
    "\n",
    "is_retriable = lambda e: (isinstance(e, genai.errors.APIError) and e.code in {429, 503})\n",
    "\n",
    "genai.models.Models.generate_content = retry.Retry(\n",
    "    predicate=is_retriable)(genai.models.Models.generate_content)"
   ]
  },
  {
   "cell_type": "markdown",
   "id": "5cbe9629",
   "metadata": {
    "id": "DNEt2BCOvOJ1",
    "papermill": {
     "duration": 0.012243,
     "end_time": "2025-04-02T10:08:59.544324",
     "exception": false,
     "start_time": "2025-04-02T10:08:59.532081",
     "status": "completed"
    },
    "tags": []
   },
   "source": [
    "### Set up your API key\n",
    "\n",
    "To run the following cell, your API key must be stored it in a [Kaggle secret](https://www.kaggle.com/discussions/product-feedback/114053) named `GOOGLE_API_KEY`.\n",
    "\n",
    "If you don't already have an API key, you can grab one from [AI Studio](https://aistudio.google.com/app/apikey). You can find [detailed instructions in the docs](https://ai.google.dev/gemini-api/docs/api-key).\n",
    "\n",
    "To make the key available through Kaggle secrets, choose `Secrets` from the `Add-ons` menu and follow the instructions to add your key or enable it for this notebook."
   ]
  },
  {
   "cell_type": "code",
   "execution_count": 5,
   "id": "19db5204",
   "metadata": {
    "execution": {
     "iopub.execute_input": "2025-04-02T10:08:59.572497Z",
     "iopub.status.busy": "2025-04-02T10:08:59.571933Z",
     "iopub.status.idle": "2025-04-02T10:08:59.875746Z",
     "shell.execute_reply": "2025-04-02T10:08:59.874584Z"
    },
    "id": "SHl0bkPCvayd",
    "papermill": {
     "duration": 0.320636,
     "end_time": "2025-04-02T10:08:59.878481",
     "exception": false,
     "start_time": "2025-04-02T10:08:59.557845",
     "status": "completed"
    },
    "tags": []
   },
   "outputs": [],
   "source": [
    "from kaggle_secrets import UserSecretsClient\n",
    "\n",
    "GOOGLE_API_KEY = UserSecretsClient().get_secret(\"Gemini API\")"
   ]
  },
  {
   "attachments": {
    "d2be9aab-2527-48af-b6cf-1f06cdd7c3a7.png": {
     "image/png": "[encoded data removed]"
    }
   },
   "cell_type": "markdown",
   "id": "9c418c1f",
   "metadata": {
    "id": "4e720472fd86",
    "papermill": {
     "duration": 0.012312,
     "end_time": "2025-04-02T10:08:59.903984",
     "exception": false,
     "start_time": "2025-04-02T10:08:59.891672",
     "status": "completed"
    },
    "tags": []
   },
   "source": [
    "If you received an error response along the lines of `No user secrets exist for kernel id ...`, then you need to add your API key via `Add-ons`, `Secrets` **and** enable it.\n",
    "\n",
    "![Screenshot of the checkbox to enable GOOGLE_API_KEY secret](https://storage.googleapis.com/kaggle-media/Images/5gdai_sc_3.png)"
   ]
  },
  {
   "cell_type": "markdown",
   "id": "349eb605",
   "metadata": {
    "id": "H_YXCYIKvyZJ",
    "papermill": {
     "duration": 0.012225,
     "end_time": "2025-04-02T10:08:59.928664",
     "exception": false,
     "start_time": "2025-04-02T10:08:59.916439",
     "status": "completed"
    },
    "tags": []
   },
   "source": [
    "### Run your first prompt\n",
    "\n",
    "In this step, you will test that your API key is set up correctly by making a request.\n",
    "\n",
    "The Python SDK uses a [`Client` object](https://googleapis.github.io/python-genai/genai.html#genai.client.Client) to make requests to the API. The client lets you control which back-end to use (between the Gemini API and Vertex AI) and handles authentication (the API key).\n",
    "\n",
    "The `gemini-2.0-flash` model has been selected here.\n",
    "\n",
    "**Note**: If you see a `TransportError` on this step, you may need to **🔁 Factory reset** the notebook one time."
   ]
  },
  {
   "cell_type": "code",
   "execution_count": 6,
   "id": "d2e4e355",
   "metadata": {
    "execution": {
     "iopub.execute_input": "2025-04-02T10:08:59.955509Z",
     "iopub.status.busy": "2025-04-02T10:08:59.955052Z",
     "iopub.status.idle": "2025-04-02T10:09:03.279492Z",
     "shell.execute_reply": "2025-04-02T10:09:03.277868Z"
    },
    "id": "BV1o0PmcvyJF",
    "papermill": {
     "duration": 3.341727,
     "end_time": "2025-04-02T10:09:03.282924",
     "exception": false,
     "start_time": "2025-04-02T10:08:59.941197",
     "status": "completed"
    },
    "tags": []
   },
   "outputs": [
    {
     "name": "stdout",
     "output_type": "stream",
     "text": [
      "Okay, imagine you have a really smart puppy named Sparky.\n",
      "\n",
      "Sparky doesn't know anything at first. But you can teach Sparky tricks, right? You show him what \"sit\" means, and give him a treat when he does it right. The more you show him, the better he gets at sitting.\n",
      "\n",
      "AI is like Sparky, but way, way smarter! It's a computer program that can learn things by seeing lots and lots of examples.\n",
      "\n",
      "Instead of teaching it \"sit,\" you can show it lots of pictures of cats. After seeing enough cat pictures, the AI can learn to recognize a cat all by itself!  You didn't have to tell it what makes a cat a cat – pointy ears, whiskers, etc. – it figured it out from the pictures!\n",
      "\n",
      "**So, basically, AI is a computer program that can learn from examples, just like you learn by seeing things and doing things. It can then use what it learned to do cool things like:**\n",
      "\n",
      "*   **Understand what you say to it (like Siri or Alexa).**\n",
      "*   **Help you find things on the internet (like Google).**\n",
      "*   **Play games (like chess or checkers).**\n",
      "*   **Even drive cars someday!**\n",
      "\n",
      "It's not magic, it's just really smart computers learning from lots and lots of information! The more information it sees, the smarter it gets!\n",
      "\n",
      "Does that make sense?\n",
      "\n"
     ]
    }
   ],
   "source": [
    "client = genai.Client(api_key=GOOGLE_API_KEY)\n",
    "\n",
    "response = client.models.generate_content(\n",
    "    model=\"gemini-2.0-flash\",\n",
    "    contents=\"Explain AI to me like I'm a kid.\")\n",
    "\n",
    "print(response.text)"
   ]
  },
  {
   "cell_type": "markdown",
   "id": "c0e21549",
   "metadata": {
    "id": "f60ed9d8ae41",
    "papermill": {
     "duration": 0.014009,
     "end_time": "2025-04-02T10:09:03.311530",
     "exception": false,
     "start_time": "2025-04-02T10:09:03.297521",
     "status": "completed"
    },
    "tags": []
   },
   "source": [
    "The response often comes back in markdown format, which you can render directly in this notebook."
   ]
  },
  {
   "cell_type": "code",
   "execution_count": 7,
   "id": "d3e41754",
   "metadata": {
    "execution": {
     "iopub.execute_input": "2025-04-02T10:09:03.340248Z",
     "iopub.status.busy": "2025-04-02T10:09:03.339845Z",
     "iopub.status.idle": "2025-04-02T10:09:03.349052Z",
     "shell.execute_reply": "2025-04-02T10:09:03.347861Z"
    },
    "id": "c933e5e460a5",
    "papermill": {
     "duration": 0.026647,
     "end_time": "2025-04-02T10:09:03.351413",
     "exception": false,
     "start_time": "2025-04-02T10:09:03.324766",
     "status": "completed"
    },
    "tags": []
   },
   "outputs": [
    {
     "data": {
      "text/markdown": [
       "Okay, imagine you have a really smart puppy named Sparky.\n",
       "\n",
       "Sparky doesn't know anything at first. But you can teach Sparky tricks, right? You show him what \"sit\" means, and give him a treat when he does it right. The more you show him, the better he gets at sitting.\n",
       "\n",
       "AI is like Sparky, but way, way smarter! It's a computer program that can learn things by seeing lots and lots of examples.\n",
       "\n",
       "Instead of teaching it \"sit,\" you can show it lots of pictures of cats. After seeing enough cat pictures, the AI can learn to recognize a cat all by itself!  You didn't have to tell it what makes a cat a cat – pointy ears, whiskers, etc. – it figured it out from the pictures!\n",
       "\n",
       "**So, basically, AI is a computer program that can learn from examples, just like you learn by seeing things and doing things. It can then use what it learned to do cool things like:**\n",
       "\n",
       "*   **Understand what you say to it (like Siri or Alexa).**\n",
       "*   **Help you find things on the internet (like Google).**\n",
       "*   **Play games (like chess or checkers).**\n",
       "*   **Even drive cars someday!**\n",
       "\n",
       "It's not magic, it's just really smart computers learning from lots and lots of information! The more information it sees, the smarter it gets!\n",
       "\n",
       "Does that make sense?\n"
      ],
      "text/plain": [
       "<IPython.core.display.Markdown object>"
      ]
     },
     "execution_count": 7,
     "metadata": {},
     "output_type": "execute_result"
    }
   ],
   "source": [
    "Markdown(response.text)"
   ]
  },
  {
   "cell_type": "markdown",
   "id": "6a1501c7",
   "metadata": {
    "id": "byx0pT9ZMW2Q",
    "papermill": {
     "duration": 0.013647,
     "end_time": "2025-04-02T10:09:03.378766",
     "exception": false,
     "start_time": "2025-04-02T10:09:03.365119",
     "status": "completed"
    },
    "tags": []
   },
   "source": [
    "### Start a chat\n",
    "\n",
    "The previous example uses a single-turn, text-in/text-out structure, but you can also set up a multi-turn chat structure too."
   ]
  },
  {
   "cell_type": "code",
   "execution_count": 8,
   "id": "9c08d01b",
   "metadata": {
    "execution": {
     "iopub.execute_input": "2025-04-02T10:09:03.407999Z",
     "iopub.status.busy": "2025-04-02T10:09:03.407613Z",
     "iopub.status.idle": "2025-04-02T10:09:03.978269Z",
     "shell.execute_reply": "2025-04-02T10:09:03.976953Z"
    },
    "id": "lV_S5ZL5MidD",
    "papermill": {
     "duration": 0.588021,
     "end_time": "2025-04-02T10:09:03.980867",
     "exception": false,
     "start_time": "2025-04-02T10:09:03.392846",
     "status": "completed"
    },
    "tags": []
   },
   "outputs": [
    {
     "name": "stdout",
     "output_type": "stream",
     "text": [
      "Nice to meet you, Zlork! It's a pleasure to make your acquaintance. Is there anything I can help you with today?\n",
      "\n"
     ]
    }
   ],
   "source": [
    "chat = client.chats.create(model='gemini-2.0-flash', history=[])\n",
    "response = chat.send_message('Hello! My name is Zlork.')\n",
    "print(response.text)"
   ]
  },
  {
   "cell_type": "code",
   "execution_count": 9,
   "id": "fe4751c3",
   "metadata": {
    "execution": {
     "iopub.execute_input": "2025-04-02T10:09:04.009230Z",
     "iopub.status.busy": "2025-04-02T10:09:04.008548Z",
     "iopub.status.idle": "2025-04-02T10:09:04.015085Z",
     "shell.execute_reply": "2025-04-02T10:09:04.013945Z"
    },
    "papermill": {
     "duration": 0.023455,
     "end_time": "2025-04-02T10:09:04.017402",
     "exception": false,
     "start_time": "2025-04-02T10:09:03.993947",
     "status": "completed"
    },
    "tags": []
   },
   "outputs": [
    {
     "name": "stdout",
     "output_type": "stream",
     "text": [
      "candidates=[Candidate(content=Content(parts=[Part(video_metadata=None, thought=None, code_execution_result=None, executable_code=None, file_data=None, function_call=None, function_response=None, inline_data=None, text=\"Nice to meet you, Zlork! It's a pleasure to make your acquaintance. Is there anything I can help you with today?\\n\")], role='model'), citation_metadata=None, finish_message=None, token_count=None, avg_logprobs=-0.19744337399800618, finish_reason=<FinishReason.STOP: 'STOP'>, grounding_metadata=None, index=None, logprobs_result=None, safety_ratings=None)] create_time=None response_id=None model_version='gemini-2.0-flash' prompt_feedback=None usage_metadata=GenerateContentResponseUsageMetadata(cached_content_token_count=None, candidates_token_count=30, prompt_token_count=9, total_token_count=39) automatic_function_calling_history=[] parsed=None\n"
     ]
    }
   ],
   "source": [
    "print(response)"
   ]
  },
  {
   "cell_type": "code",
   "execution_count": 10,
   "id": "8302a9ee",
   "metadata": {
    "execution": {
     "iopub.execute_input": "2025-04-02T10:09:04.045462Z",
     "iopub.status.busy": "2025-04-02T10:09:04.044898Z",
     "iopub.status.idle": "2025-04-02T10:09:05.434361Z",
     "shell.execute_reply": "2025-04-02T10:09:05.432989Z"
    },
    "id": "7b0372c3c64a",
    "papermill": {
     "duration": 1.406362,
     "end_time": "2025-04-02T10:09:05.436899",
     "exception": false,
     "start_time": "2025-04-02T10:09:04.030537",
     "status": "completed"
    },
    "tags": []
   },
   "outputs": [
    {
     "name": "stdout",
     "output_type": "stream",
     "text": [
      "Okay, here's a fascinating fact about dinosaurs:\n",
      "\n",
      "**Some dinosaurs, particularly the smaller theropods (like Velociraptor's close relatives), were likely covered in feathers, and some might have even been able to fly!**\n",
      "\n",
      "For a long time, we only thought of dinosaurs as scaly reptiles, but discoveries of fossilized feathers and feather-like structures have changed our understanding. It's now widely accepted that feathers evolved long before birds, and many dinosaurs used them for insulation, display, and possibly even gliding or flight. Some dinosaurs even had colorful plumage!\n",
      "\n",
      "Isn't that cool?\n",
      "\n"
     ]
    }
   ],
   "source": [
    "response = chat.send_message('Can you tell me something interesting about dinosaurs?')\n",
    "print(response.text)"
   ]
  },
  {
   "cell_type": "markdown",
   "id": "cbb4bad0",
   "metadata": {
    "papermill": {
     "duration": 0.012785,
     "end_time": "2025-04-02T10:09:05.463143",
     "exception": false,
     "start_time": "2025-04-02T10:09:05.450358",
     "status": "completed"
    },
    "tags": []
   },
   "source": [
    "While you have the `chat` object alive, the conversation state\n",
    "persists. Confirm that by asking if it knows the user's name."
   ]
  },
  {
   "cell_type": "code",
   "execution_count": 11,
   "id": "288a22a5",
   "metadata": {
    "execution": {
     "iopub.execute_input": "2025-04-02T10:09:05.491259Z",
     "iopub.status.busy": "2025-04-02T10:09:05.490847Z",
     "iopub.status.idle": "2025-04-02T10:09:06.026359Z",
     "shell.execute_reply": "2025-04-02T10:09:06.025249Z"
    },
    "id": "d3f9591392a7",
    "papermill": {
     "duration": 0.552187,
     "end_time": "2025-04-02T10:09:06.028482",
     "exception": false,
     "start_time": "2025-04-02T10:09:05.476295",
     "status": "completed"
    },
    "tags": []
   },
   "outputs": [
    {
     "name": "stdout",
     "output_type": "stream",
     "text": [
      "Yes, your name is Zlork.\n",
      "\n"
     ]
    }
   ],
   "source": [
    "response = chat.send_message('Do you remember what my name is?')\n",
    "print(response.text)"
   ]
  },
  {
   "cell_type": "markdown",
   "id": "97847f87",
   "metadata": {
    "id": "2KAjpr1200sW",
    "papermill": {
     "duration": 0.013399,
     "end_time": "2025-04-02T10:09:06.055038",
     "exception": false,
     "start_time": "2025-04-02T10:09:06.041639",
     "status": "completed"
    },
    "tags": []
   },
   "source": [
    "### Choose a model\n",
    "\n",
    "The Gemini API provides access to a number of models from the Gemini model family. Read about the available models and their capabilities on the [model overview page](https://ai.google.dev/gemini-api/docs/models/gemini).\n",
    "\n",
    "In this step you'll use the API to list all of the available models."
   ]
  },
  {
   "cell_type": "code",
   "execution_count": 12,
   "id": "ddac1731",
   "metadata": {
    "execution": {
     "iopub.execute_input": "2025-04-02T10:09:06.082891Z",
     "iopub.status.busy": "2025-04-02T10:09:06.082511Z",
     "iopub.status.idle": "2025-04-02T10:09:06.516680Z",
     "shell.execute_reply": "2025-04-02T10:09:06.515410Z"
    },
    "id": "uUUZa2uq2jDm",
    "papermill": {
     "duration": 0.451153,
     "end_time": "2025-04-02T10:09:06.519288",
     "exception": false,
     "start_time": "2025-04-02T10:09:06.068135",
     "status": "completed"
    },
    "tags": []
   },
   "outputs": [
    {
     "name": "stdout",
     "output_type": "stream",
     "text": [
      "models/chat-bison-001\n",
      "models/text-bison-001\n",
      "models/embedding-gecko-001\n",
      "models/gemini-1.0-pro-vision-latest\n",
      "models/gemini-pro-vision\n",
      "models/gemini-1.5-pro-latest\n",
      "models/gemini-1.5-pro-001\n",
      "models/gemini-1.5-pro-002\n",
      "models/gemini-1.5-pro\n",
      "models/gemini-1.5-flash-latest\n",
      "models/gemini-1.5-flash-001\n",
      "models/gemini-1.5-flash-001-tuning\n",
      "models/gemini-1.5-flash\n",
      "models/gemini-1.5-flash-002\n",
      "models/gemini-1.5-flash-8b\n",
      "models/gemini-1.5-flash-8b-001\n",
      "models/gemini-1.5-flash-8b-latest\n",
      "models/gemini-1.5-flash-8b-exp-0827\n",
      "models/gemini-1.5-flash-8b-exp-0924\n",
      "models/gemini-2.5-pro-exp-03-25\n",
      "models/gemini-2.0-flash-exp\n",
      "models/gemini-2.0-flash\n",
      "models/gemini-2.0-flash-001\n",
      "models/gemini-2.0-flash-exp-image-generation\n",
      "models/gemini-2.0-flash-lite-001\n",
      "models/gemini-2.0-flash-lite\n",
      "models/gemini-2.0-flash-lite-preview-02-05\n",
      "models/gemini-2.0-flash-lite-preview\n",
      "models/gemini-2.0-pro-exp\n",
      "models/gemini-2.0-pro-exp-02-05\n",
      "models/gemini-exp-1206\n",
      "models/gemini-2.0-flash-thinking-exp-01-21\n",
      "models/gemini-2.0-flash-thinking-exp\n",
      "models/gemini-2.0-flash-thinking-exp-1219\n",
      "models/learnlm-1.5-pro-experimental\n",
      "models/gemma-3-4b-it\n",
      "models/gemma-3-12b-it\n",
      "models/gemma-3-27b-it\n",
      "models/embedding-001\n",
      "models/text-embedding-004\n",
      "models/gemini-embedding-exp-03-07\n",
      "models/gemini-embedding-exp\n",
      "models/aqa\n",
      "models/imagen-3.0-generate-002\n"
     ]
    }
   ],
   "source": [
    "for model in client.models.list():\n",
    "  print(model.name)"
   ]
  },
  {
   "cell_type": "markdown",
   "id": "b911ad44",
   "metadata": {
    "id": "rN49kSI54R1v",
    "papermill": {
     "duration": 0.013139,
     "end_time": "2025-04-02T10:09:06.545901",
     "exception": false,
     "start_time": "2025-04-02T10:09:06.532762",
     "status": "completed"
    },
    "tags": []
   },
   "source": [
    "The [`models.list`](https://ai.google.dev/api/models#method:-models.list) response also returns additional information about the model's capabilities, like the token limits and supported parameters."
   ]
  },
  {
   "cell_type": "code",
   "execution_count": 13,
   "id": "3d82e32f",
   "metadata": {
    "execution": {
     "iopub.execute_input": "2025-04-02T10:09:06.574399Z",
     "iopub.status.busy": "2025-04-02T10:09:06.573960Z",
     "iopub.status.idle": "2025-04-02T10:09:07.105732Z",
     "shell.execute_reply": "2025-04-02T10:09:07.104581Z"
    },
    "id": "k7JJ1K6j4Rl8",
    "papermill": {
     "duration": 0.549159,
     "end_time": "2025-04-02T10:09:07.108421",
     "exception": false,
     "start_time": "2025-04-02T10:09:06.559262",
     "status": "completed"
    },
    "tags": []
   },
   "outputs": [
    {
     "name": "stdout",
     "output_type": "stream",
     "text": [
      "{'description': 'Gemini 2.0 Flash',\n",
      " 'display_name': 'Gemini 2.0 Flash',\n",
      " 'input_token_limit': 1048576,\n",
      " 'name': 'models/gemini-2.0-flash',\n",
      " 'output_token_limit': 8192,\n",
      " 'supported_actions': ['generateContent', 'countTokens'],\n",
      " 'tuned_model_info': {},\n",
      " 'version': '2.0'}\n"
     ]
    }
   ],
   "source": [
    "from pprint import pprint\n",
    "\n",
    "for model in client.models.list():\n",
    "  if model.name == 'models/gemini-2.0-flash':\n",
    "    pprint(model.to_json_dict())\n",
    "    break"
   ]
  },
  {
   "cell_type": "markdown",
   "id": "c561fc44",
   "metadata": {
    "id": "5rU_UBlZdooM",
    "papermill": {
     "duration": 0.013206,
     "end_time": "2025-04-02T10:09:07.135048",
     "exception": false,
     "start_time": "2025-04-02T10:09:07.121842",
     "status": "completed"
    },
    "tags": []
   },
   "source": [
    "## Explore generation parameters\n",
    "\n"
   ]
  },
  {
   "cell_type": "markdown",
   "id": "a5b6c7e1",
   "metadata": {
    "id": "G7NfEizeipbW",
    "papermill": {
     "duration": 0.013772,
     "end_time": "2025-04-02T10:09:07.162266",
     "exception": false,
     "start_time": "2025-04-02T10:09:07.148494",
     "status": "completed"
    },
    "tags": []
   },
   "source": [
    "### Output length\n",
    "\n",
    "When generating text with an LLM, the output length affects cost and performance. Generating more tokens increases computation, leading to higher energy consumption, latency, and cost.\n",
    "\n",
    "To stop the model from generating tokens past a limit, you can specify the `max_output_tokens` parameter when using the Gemini API. Specifying this parameter does not influence the generation of the output tokens, so the output will not become more stylistically or textually succinct, but it will stop generating tokens once the specified length is reached. Prompt engineering may be required to generate a more complete output for your given limit."
   ]
  },
  {
   "cell_type": "code",
   "execution_count": 14,
   "id": "66e92aec",
   "metadata": {
    "execution": {
     "iopub.execute_input": "2025-04-02T10:09:07.192225Z",
     "iopub.status.busy": "2025-04-02T10:09:07.191150Z",
     "iopub.status.idle": "2025-04-02T10:09:09.133732Z",
     "shell.execute_reply": "2025-04-02T10:09:09.132363Z"
    },
    "id": "qVf23JsIi9ma",
    "papermill": {
     "duration": 1.959828,
     "end_time": "2025-04-02T10:09:09.136278",
     "exception": false,
     "start_time": "2025-04-02T10:09:07.176450",
     "status": "completed"
    },
    "tags": []
   },
   "outputs": [
    {
     "name": "stdout",
     "output_type": "stream",
     "text": [
      "## The Humble Olive: A Cornerstone of Modern Society\n",
      "\n",
      "The olive, that small, unassuming fruit, punches far above its weight in terms of its impact on modern society. From its ancient roots to its contemporary applications, the olive and its derivatives are interwoven into the fabric of our diets, economies, cultures, and even our quest for sustainability. Understanding the importance of olives in the modern world requires appreciating their multifaceted contributions, ranging from culinary delights and health benefits to economic engines and promoters of environmental consciousness.\n",
      "\n",
      "Perhaps the most immediate and widely recognized contribution of olives lies in the culinary sphere. Olive oil, extracted from the fruit, has transcended its origins in the Mediterranean basin to become a staple ingredient in kitchens worldwide. Its versatility is unmatched, lending itself to everything from delicate salad dressings to high-heat cooking. The diverse range of olive oils, categorized by factors like olive variety, region of origin, and extraction method, allows for a nuanced appreciation of flavor profiles that complement a vast array of dishes. From\n"
     ]
    }
   ],
   "source": [
    "from google.genai import types\n",
    "\n",
    "short_config = types.GenerateContentConfig(max_output_tokens=200)\n",
    "\n",
    "response = client.models.generate_content(\n",
    "    model='gemini-2.0-flash',\n",
    "    config=short_config,\n",
    "    contents='Write a 1000 word essay on the importance of olives in modern society.')\n",
    "\n",
    "print(response.text)"
   ]
  },
  {
   "cell_type": "code",
   "execution_count": 15,
   "id": "872e1ca4",
   "metadata": {
    "execution": {
     "iopub.execute_input": "2025-04-02T10:09:09.165957Z",
     "iopub.status.busy": "2025-04-02T10:09:09.165561Z",
     "iopub.status.idle": "2025-04-02T10:09:09.173180Z",
     "shell.execute_reply": "2025-04-02T10:09:09.171848Z"
    },
    "papermill": {
     "duration": 0.02536,
     "end_time": "2025-04-02T10:09:09.175603",
     "exception": false,
     "start_time": "2025-04-02T10:09:09.150243",
     "status": "completed"
    },
    "tags": []
   },
   "outputs": [
    {
     "data": {
      "text/markdown": [
       "## The Humble Olive: A Cornerstone of Modern Society\n",
       "\n",
       "The olive, that small, unassuming fruit, punches far above its weight in terms of its impact on modern society. From its ancient roots to its contemporary applications, the olive and its derivatives are interwoven into the fabric of our diets, economies, cultures, and even our quest for sustainability. Understanding the importance of olives in the modern world requires appreciating their multifaceted contributions, ranging from culinary delights and health benefits to economic engines and promoters of environmental consciousness.\n",
       "\n",
       "Perhaps the most immediate and widely recognized contribution of olives lies in the culinary sphere. Olive oil, extracted from the fruit, has transcended its origins in the Mediterranean basin to become a staple ingredient in kitchens worldwide. Its versatility is unmatched, lending itself to everything from delicate salad dressings to high-heat cooking. The diverse range of olive oils, categorized by factors like olive variety, region of origin, and extraction method, allows for a nuanced appreciation of flavor profiles that complement a vast array of dishes. From"
      ],
      "text/plain": [
       "<IPython.core.display.Markdown object>"
      ]
     },
     "execution_count": 15,
     "metadata": {},
     "output_type": "execute_result"
    }
   ],
   "source": [
    "Markdown(response.text)"
   ]
  },
  {
   "cell_type": "code",
   "execution_count": 16,
   "id": "57b16b94",
   "metadata": {
    "execution": {
     "iopub.execute_input": "2025-04-02T10:09:09.205724Z",
     "iopub.status.busy": "2025-04-02T10:09:09.205313Z",
     "iopub.status.idle": "2025-04-02T10:09:10.199361Z",
     "shell.execute_reply": "2025-04-02T10:09:10.198196Z"
    },
    "id": "W-3kR2F5kdMR",
    "papermill": {
     "duration": 1.011684,
     "end_time": "2025-04-02T10:09:10.202050",
     "exception": false,
     "start_time": "2025-04-02T10:09:09.190366",
     "status": "completed"
    },
    "tags": []
   },
   "outputs": [
    {
     "name": "stdout",
     "output_type": "stream",
     "text": [
      "From groves sun-kissed, a humble sphere,\n",
      "The olive yields, year after year.\n",
      "In oil it flows, a golden stream,\n",
      "For healthy hearts, a vibrant dream.\n",
      "\n",
      "On pizzas perched, a salty grace,\n",
      "Or tapenade, to elevate the taste.\n",
      "A symbol old, of peace and might,\n",
      "The modern olive, shining bright.\n",
      "\n"
     ]
    }
   ],
   "source": [
    "response = client.models.generate_content(\n",
    "    model='gemini-2.0-flash',\n",
    "    config=short_config,\n",
    "    contents='Write a short poem on the importance of olives in modern society.')\n",
    "\n",
    "print(response.text)"
   ]
  },
  {
   "cell_type": "markdown",
   "id": "2d5e2856",
   "metadata": {
    "id": "3ZhDSLB6lqqB",
    "papermill": {
     "duration": 0.013244,
     "end_time": "2025-04-02T10:09:10.230216",
     "exception": false,
     "start_time": "2025-04-02T10:09:10.216972",
     "status": "completed"
    },
    "tags": []
   },
   "source": [
    "Explore with your own prompts. Try a prompt with a restrictive output limit and then adjust the prompt to work within that limit."
   ]
  },
  {
   "cell_type": "markdown",
   "id": "696225cf",
   "metadata": {
    "id": "alx-WaAvir_9",
    "papermill": {
     "duration": 0.013189,
     "end_time": "2025-04-02T10:09:10.256959",
     "exception": false,
     "start_time": "2025-04-02T10:09:10.243770",
     "status": "completed"
    },
    "tags": []
   },
   "source": [
    "### Temperature\n",
    "\n",
    "Temperature controls the degree of randomness in token selection. Higher temperatures result in a higher number of candidate tokens from which the next output token is selected, and can produce more diverse results, while lower temperatures have the opposite effect, such that a temperature of 0 results in greedy decoding, selecting the most probable token at each step.\n",
    "\n",
    "Temperature doesn't provide any guarantees of randomness, but it can be used to \"nudge\" the output somewhat."
   ]
  },
  {
   "cell_type": "code",
   "execution_count": 17,
   "id": "04b3154c",
   "metadata": {
    "execution": {
     "iopub.execute_input": "2025-04-02T10:09:10.285759Z",
     "iopub.status.busy": "2025-04-02T10:09:10.285368Z",
     "iopub.status.idle": "2025-04-02T10:09:12.766518Z",
     "shell.execute_reply": "2025-04-02T10:09:12.765417Z"
    },
    "id": "SHraGMzqnZqt",
    "papermill": {
     "duration": 2.4982,
     "end_time": "2025-04-02T10:09:12.768775",
     "exception": false,
     "start_time": "2025-04-02T10:09:10.270575",
     "status": "completed"
    },
    "tags": []
   },
   "outputs": [
    {
     "name": "stdout",
     "output_type": "stream",
     "text": [
      "Magenta\n",
      " -------------------------\n",
      "Azure\n",
      " -------------------------\n",
      "Magenta\n",
      " -------------------------\n",
      "Turquoise\n",
      " -------------------------\n",
      "Orange\n",
      " -------------------------\n"
     ]
    }
   ],
   "source": [
    "high_temp_config = types.GenerateContentConfig(temperature=2.0)\n",
    "\n",
    "\n",
    "for _ in range(5):\n",
    "  response = client.models.generate_content(\n",
    "      model='gemini-2.0-flash',\n",
    "      config=high_temp_config,\n",
    "      contents='Pick a random colour... (respond in a single word)')\n",
    "\n",
    "  if response.text:\n",
    "    print(response.text, '-' * 25)"
   ]
  },
  {
   "cell_type": "markdown",
   "id": "f514c256",
   "metadata": {
    "id": "z3J4pCTuof7e",
    "papermill": {
     "duration": 0.013873,
     "end_time": "2025-04-02T10:09:12.796907",
     "exception": false,
     "start_time": "2025-04-02T10:09:12.783034",
     "status": "completed"
    },
    "tags": []
   },
   "source": [
    "Now try the same prompt with temperature set to zero. Note that the output is not completely deterministic, as other parameters affect token selection, but the results will tend to be more stable."
   ]
  },
  {
   "cell_type": "code",
   "execution_count": 18,
   "id": "e8c9299e",
   "metadata": {
    "execution": {
     "iopub.execute_input": "2025-04-02T10:09:12.826735Z",
     "iopub.status.busy": "2025-04-02T10:09:12.826361Z",
     "iopub.status.idle": "2025-04-02T10:09:16.297244Z",
     "shell.execute_reply": "2025-04-02T10:09:16.296173Z"
    },
    "id": "clymkWv-PfUZ",
    "papermill": {
     "duration": 3.488721,
     "end_time": "2025-04-02T10:09:16.299713",
     "exception": false,
     "start_time": "2025-04-02T10:09:12.810992",
     "status": "completed"
    },
    "tags": []
   },
   "outputs": [
    {
     "name": "stdout",
     "output_type": "stream",
     "text": [
      "Azure\n",
      " -------------------------\n",
      "Azure\n",
      " -------------------------\n",
      "Azure\n",
      " -------------------------\n",
      "Azure\n",
      " -------------------------\n",
      "Azure\n",
      " -------------------------\n"
     ]
    }
   ],
   "source": [
    "low_temp_config = types.GenerateContentConfig(temperature=0.0)\n",
    "\n",
    "for _ in range(5):\n",
    "  response = client.models.generate_content(\n",
    "      model='gemini-2.0-flash',\n",
    "      config=low_temp_config,\n",
    "      contents='Pick a random colour... (respond in a single word)')\n",
    "\n",
    "  if response.text:\n",
    "    print(response.text, '-' * 25)"
   ]
  },
  {
   "cell_type": "markdown",
   "id": "f9dc4f5f",
   "metadata": {
    "id": "St5nt3vzitsZ",
    "papermill": {
     "duration": 0.013852,
     "end_time": "2025-04-02T10:09:16.327796",
     "exception": false,
     "start_time": "2025-04-02T10:09:16.313944",
     "status": "completed"
    },
    "tags": []
   },
   "source": [
    "### Top-P\n",
    "\n",
    "Like temperature, the top-P parameter is also used to control the diversity of the model's output.\n",
    "\n",
    "Top-P defines the probability threshold that, once cumulatively exceeded, tokens stop being selected as candidates. A top-P of 0 is typically equivalent to greedy decoding, and a top-P of 1 typically selects every token in the model's vocabulary.\n",
    "\n",
    "You may also see top-K referenced in LLM literature. Top-K is not configurable in the Gemini 2.0 series of models, but can be changed in older models. Top-K is a positive integer that defines the number of most probable tokens from which to select the output token. A top-K of 1 selects a single token, performing greedy decoding.\n",
    "\n",
    "\n",
    "Run this example a number of times, change the settings and observe the change in output."
   ]
  },
  {
   "cell_type": "code",
   "execution_count": 19,
   "id": "4f03dee9",
   "metadata": {
    "execution": {
     "iopub.execute_input": "2025-04-02T10:09:16.360118Z",
     "iopub.status.busy": "2025-04-02T10:09:16.359149Z",
     "iopub.status.idle": "2025-04-02T10:09:21.976306Z",
     "shell.execute_reply": "2025-04-02T10:09:21.975121Z"
    },
    "id": "lPlzpEavUV8F",
    "papermill": {
     "duration": 5.63601,
     "end_time": "2025-04-02T10:09:21.978774",
     "exception": false,
     "start_time": "2025-04-02T10:09:16.342764",
     "status": "completed"
    },
    "tags": []
   },
   "outputs": [
    {
     "name": "stdout",
     "output_type": "stream",
     "text": [
      "Whiskers twitching, Jasper the ginger cat surveyed his kingdom. Not the sprawling jungles of Africa, or the majestic peaks of the Himalayas. Jasper’s kingdom was Mrs. Higgins’ meticulously manicured garden. And boredom, thick and heavy like Mrs. Higgins’ rose fertilizer, hung in the air.\n",
      "\n",
      "One day, a particularly persistent bumblebee buzzed near Jasper's nose, pulling him from his afternoon nap under the hydrangeas. \"Go away, you winged menace!\" Jasper hissed, batting at the bee with a paw. Instead of flying away, the bee buzzed closer, its hum a high-pitched invitation. \n",
      "\n",
      "Intrigued (and mildly annoyed), Jasper stalked the bee. It flitted towards the garden fence, a dilapidated wooden structure with a suspicious hole near the base. Jasper had been warned repeatedly - vehemently, even - by Mrs. Higgins about the dangers beyond. \"Monsters, Jasper!\" she'd declared, waving a trowel. \"Evil dogs and monstrous automobiles!\"\n",
      "\n",
      "But monsters were more appealing than boredom. With a surge of rebellious curiosity, Jasper squeezed through the hole.\n",
      "\n",
      "The world exploded with scent. Cars roared, children shrieked, and a cacophony of smells assaulted his nose: sizzling sausages, exhaust fumes, the faint tang of fish. Overwhelmed, Jasper clung to the shadows of a parked van, heart hammering against his ribs.\n",
      "\n",
      "Then, he saw her. A tortoiseshell kitten, half-hidden beneath a discarded newspaper, eyes wide with terror. Her fur was matted and her ribs were painfully visible. \n",
      "\n",
      "Something stirred deep within Jasper, a feeling he hadn’t realized he possessed: protectiveness. Ignoring the roar of an approaching garbage truck, Jasper darted towards the kitten. He lowered his head, butted her gently, and nudged her out of harm’s way.\n",
      "\n",
      "She shied away at first, but Jasper persisted, purring softly. Gradually, she warmed to him, a tentative paw extending to touch his ginger fur. \n",
      "\n",
      "They spent the day navigating the concrete jungle together. Jasper, the brave explorer, led the way. He showed her how to sniff out scraps behind the butcher shop, how to time the traffic to cross the road (just before the red light changed, always!), and how to meow pathetically at bakery doors for unsuspecting tourists to offer them stale croissants.\n",
      "\n",
      "The kitten, whom Jasper named Patches due to her patchy coat, was surprisingly adept at surviving. She was quick, nimble, and fiercely loyal. Jasper had always thought adventure meant finding hidden treasures or defeating mythical beasts. He was wrong. Adventure was sharing stale croissants with a frightened kitten on a noisy street corner.\n",
      "\n",
      "As dusk settled, the realization that he was missing Mrs. Higgins' supper of poached salmon began to prick at Jasper’s conscience. \"We should go back,\" he told Patches, pointing with his nose in the general direction of the garden fence.\n",
      "\n",
      "To his surprise, Patches purred and followed him without hesitation. When they reached the hole, she hesitated. Jasper nudged her encouragingly, and one by one, they slipped back into Mrs. Higgins' quiet, predictable world.\n",
      "\n",
      "He didn’t expect Mrs. Higgins to notice. After all, he was a cat. But when she saw him, she cried, \"Jasper! You came back!\" She rushed to him, burying her face in his fur, then saw Patches cowering behind him. Her expression softened. \n",
      "\n",
      "\"And who is this little darling?\" she asked, her voice trembling.\n",
      "\n",
      "That night, for the first time, Jasper wasn’t alone on Mrs. Higgins' velvet armchair. Patches nestled against him, the rumble of her purr a symphony in the silent garden. Jasper closed his eyes, a warmth spreading through him, not just from Patches’ proximity, but from the satisfaction of knowing that he, the ginger cat of Mrs. Higgins' garden, had not just had an adventure, but had rescued a kitten from a monstrous world. And maybe, just maybe, that was even better than finding buried treasure.\n",
      "\n"
     ]
    }
   ],
   "source": [
    "model_config = types.GenerateContentConfig(\n",
    "    # These are the default values for gemini-2.0-flash.\n",
    "    temperature=2.0,\n",
    "    top_p=0.96,\n",
    ")\n",
    "\n",
    "story_prompt = \"You are a creative writer. Write a short story about a cat who goes on an adventure.\"\n",
    "response = client.models.generate_content(\n",
    "    model='gemini-2.0-flash',\n",
    "    config=model_config,\n",
    "    contents=story_prompt)\n",
    "\n",
    "print(response.text)"
   ]
  },
  {
   "cell_type": "markdown",
   "id": "c14da808",
   "metadata": {
    "id": "rMrYs1koY6DX",
    "papermill": {
     "duration": 0.016247,
     "end_time": "2025-04-02T10:09:22.009828",
     "exception": false,
     "start_time": "2025-04-02T10:09:21.993581",
     "status": "completed"
    },
    "tags": []
   },
   "source": [
    "## Prompting\n",
    "\n",
    "This section contains some prompts from the chapter for you to try out directly in the API. Try changing the text here to see how each prompt performs with different instructions, more examples, or any other changes you can think of."
   ]
  },
  {
   "cell_type": "markdown",
   "id": "1913b36b",
   "metadata": {
    "id": "hhj_tQidZJP7",
    "papermill": {
     "duration": 0.013972,
     "end_time": "2025-04-02T10:09:22.038160",
     "exception": false,
     "start_time": "2025-04-02T10:09:22.024188",
     "status": "completed"
    },
    "tags": []
   },
   "source": [
    "### Zero-shot\n",
    "\n",
    "Zero-shot prompts are prompts that describe the request for the model directly.\n",
    "\n",
    "<table align=left>\n",
    "  <td>\n",
    "    <a target=\"_blank\" href=\"https://aistudio.google.com/prompts/1gzKKgDHwkAvexG5Up0LMtl1-6jKMKe4g\"><img src=\"https://ai.google.dev/site-assets/images/marketing/home/icon-ais.png\" style=\"height: 24px\" height=24/> Open in AI Studio</a>\n",
    "  </td>\n",
    "</table>"
   ]
  },
  {
   "cell_type": "code",
   "execution_count": 20,
   "id": "a38ea2f5",
   "metadata": {
    "execution": {
     "iopub.execute_input": "2025-04-02T10:09:22.071552Z",
     "iopub.status.busy": "2025-04-02T10:09:22.070388Z",
     "iopub.status.idle": "2025-04-02T10:09:25.169161Z",
     "shell.execute_reply": "2025-04-02T10:09:25.167888Z"
    },
    "id": "1_t-cwnDZzbH",
    "papermill": {
     "duration": 3.117963,
     "end_time": "2025-04-02T10:09:25.171836",
     "exception": false,
     "start_time": "2025-04-02T10:09:22.053873",
     "status": "completed"
    },
    "tags": []
   },
   "outputs": [
    {
     "name": "stdout",
     "output_type": "stream",
     "text": [
      "POSITIVE\n",
      "\n"
     ]
    }
   ],
   "source": [
    "model_config = types.GenerateContentConfig(\n",
    "    temperature=0.1,\n",
    "    top_p=1,\n",
    "    max_output_tokens=5,\n",
    ")\n",
    "\n",
    "zero_shot_prompt = \"\"\"Classify movie reviews as POSITIVE, NEUTRAL or NEGATIVE.\n",
    "Review: \"Her\" is a disturbing study revealing the direction\n",
    "humanity is headed if AI is allowed to keep evolving,\n",
    "unchecked. I wish there were more movies like this masterpiece.\n",
    "Sentiment: \"\"\"\n",
    "\n",
    "response = client.models.generate_content(\n",
    "    model='gemini-2.0-flash',\n",
    "    config=model_config,\n",
    "    contents=zero_shot_prompt)\n",
    "\n",
    "print(response.text)"
   ]
  },
  {
   "cell_type": "markdown",
   "id": "2d62689f",
   "metadata": {
    "id": "3b5568bdeb11",
    "papermill": {
     "duration": 0.015481,
     "end_time": "2025-04-02T10:09:25.202742",
     "exception": false,
     "start_time": "2025-04-02T10:09:25.187261",
     "status": "completed"
    },
    "tags": []
   },
   "source": [
    "#### Enum mode\n",
    "\n",
    "The models are trained to generate text, and while the Gemini 2.0 models are great at following instructions, other models can sometimes produce more text than you may wish for. In the preceding example, the model will output the label, but sometimes it can include a preceding \"Sentiment\" label, and without an output token limit, it may also add explanatory text afterwards. See [this prompt in AI Studio](https://aistudio.google.com/prompts/1gzKKgDHwkAvexG5Up0LMtl1-6jKMKe4g) for an example.\n",
    "\n",
    "The Gemini API has an [Enum mode](https://github.com/google-gemini/cookbook/blob/main/quickstarts/Enum.ipynb) feature that allows you to constrain the output to a fixed set of values."
   ]
  },
  {
   "cell_type": "code",
   "execution_count": 21,
   "id": "3ad88fcf",
   "metadata": {
    "execution": {
     "iopub.execute_input": "2025-04-02T10:09:25.233208Z",
     "iopub.status.busy": "2025-04-02T10:09:25.232813Z",
     "iopub.status.idle": "2025-04-02T10:10:29.243079Z",
     "shell.execute_reply": "2025-04-02T10:10:29.241898Z"
    },
    "id": "ad118a56c598",
    "papermill": {
     "duration": 64.042137,
     "end_time": "2025-04-02T10:10:29.259272",
     "exception": false,
     "start_time": "2025-04-02T10:09:25.217135",
     "status": "completed"
    },
    "tags": []
   },
   "outputs": [
    {
     "name": "stdout",
     "output_type": "stream",
     "text": [
      "positive\n"
     ]
    }
   ],
   "source": [
    "import enum\n",
    "\n",
    "class Sentiment(enum.Enum):\n",
    "    POSITIVE = \"positive\"\n",
    "    NEUTRAL = \"neutral\"\n",
    "    NEGATIVE = \"negative\"\n",
    "\n",
    "\n",
    "response = client.models.generate_content(\n",
    "    model='gemini-2.0-flash',\n",
    "    config=types.GenerateContentConfig(\n",
    "        response_mime_type=\"text/x.enum\",\n",
    "        response_schema=Sentiment\n",
    "    ),\n",
    "    contents=zero_shot_prompt)\n",
    "\n",
    "print(response.text)"
   ]
  },
  {
   "cell_type": "markdown",
   "id": "65a10dd1",
   "metadata": {
    "papermill": {
     "duration": 0.014865,
     "end_time": "2025-04-02T10:10:29.289047",
     "exception": false,
     "start_time": "2025-04-02T10:10:29.274182",
     "status": "completed"
    },
    "tags": []
   },
   "source": [
    "When using constrained output like an enum, the Python SDK will attempt to convert the model's text response into a Python object automatically. It's stored in the `response.parsed` field."
   ]
  },
  {
   "cell_type": "code",
   "execution_count": 22,
   "id": "e1ab1e31",
   "metadata": {
    "execution": {
     "iopub.execute_input": "2025-04-02T10:10:29.321929Z",
     "iopub.status.busy": "2025-04-02T10:10:29.321426Z",
     "iopub.status.idle": "2025-04-02T10:10:29.328905Z",
     "shell.execute_reply": "2025-04-02T10:10:29.327304Z"
    },
    "papermill": {
     "duration": 0.026619,
     "end_time": "2025-04-02T10:10:29.331535",
     "exception": false,
     "start_time": "2025-04-02T10:10:29.304916",
     "status": "completed"
    },
    "tags": []
   },
   "outputs": [
    {
     "name": "stdout",
     "output_type": "stream",
     "text": [
      "Sentiment.POSITIVE\n",
      "<enum 'Sentiment'>\n"
     ]
    }
   ],
   "source": [
    "enum_response = response.parsed\n",
    "print(enum_response)\n",
    "print(type(enum_response))"
   ]
  },
  {
   "cell_type": "markdown",
   "id": "2278b9bf",
   "metadata": {
    "id": "0udiSwNbv45W",
    "papermill": {
     "duration": 0.014988,
     "end_time": "2025-04-02T10:10:29.361946",
     "exception": false,
     "start_time": "2025-04-02T10:10:29.346958",
     "status": "completed"
    },
    "tags": []
   },
   "source": [
    "### One-shot and few-shot\n",
    "\n",
    "Providing an example of the expected response is known as a \"one-shot\" prompt. When you provide multiple examples, it is a \"few-shot\" prompt.\n",
    "\n",
    "<table align=left>\n",
    "  <td>\n",
    "    <a target=\"_blank\" href=\"https://aistudio.google.com/prompts/1jjWkjUSoMXmLvMJ7IzADr_GxHPJVV2bg\"><img src=\"https://ai.google.dev/site-assets/images/marketing/home/icon-ais.png\" style=\"height: 24px\" height=24/> Open in AI Studio</a>\n",
    "  </td>\n",
    "</table>\n"
   ]
  },
  {
   "cell_type": "code",
   "execution_count": 23,
   "id": "dee37467",
   "metadata": {
    "execution": {
     "iopub.execute_input": "2025-04-02T10:10:29.394042Z",
     "iopub.status.busy": "2025-04-02T10:10:29.393611Z",
     "iopub.status.idle": "2025-04-02T10:10:30.010832Z",
     "shell.execute_reply": "2025-04-02T10:10:30.009770Z"
    },
    "id": "hd4mVUukwOKZ",
    "papermill": {
     "duration": 0.636423,
     "end_time": "2025-04-02T10:10:30.013406",
     "exception": false,
     "start_time": "2025-04-02T10:10:29.376983",
     "status": "completed"
    },
    "tags": []
   },
   "outputs": [
    {
     "name": "stdout",
     "output_type": "stream",
     "text": [
      "```json\n",
      "{\n",
      "\"size\": \"large\",\n",
      "\"type\": \"normal\",\n",
      "\"ingredients\": [\"cheese\", \"pineapple\"]\n",
      "}\n",
      "```\n",
      "\n"
     ]
    }
   ],
   "source": [
    "few_shot_prompt = \"\"\"Parse a customer's pizza order into valid JSON:\n",
    "\n",
    "EXAMPLE:\n",
    "I want a small pizza with cheese, tomato sauce, and pepperoni.\n",
    "JSON Response:\n",
    "```\n",
    "{\n",
    "\"size\": \"small\",\n",
    "\"type\": \"normal\",\n",
    "\"ingredients\": [\"cheese\", \"tomato sauce\", \"pepperoni\"]\n",
    "}\n",
    "```\n",
    "\n",
    "EXAMPLE:\n",
    "Can I get a large pizza with tomato sauce, basil and mozzarella\n",
    "JSON Response:\n",
    "```\n",
    "{\n",
    "\"size\": \"large\",\n",
    "\"type\": \"normal\",\n",
    "\"ingredients\": [\"tomato sauce\", \"basil\", \"mozzarella\"]\n",
    "}\n",
    "```\n",
    "\n",
    "ORDER:\n",
    "\"\"\"\n",
    "\n",
    "customer_order = \"Give me a large with cheese & pineapple\"\n",
    "\n",
    "response = client.models.generate_content(\n",
    "    model='gemini-2.0-flash',\n",
    "    config=types.GenerateContentConfig(\n",
    "        temperature=0.1,\n",
    "        top_p=1,\n",
    "        max_output_tokens=250,\n",
    "    ),\n",
    "    contents=[few_shot_prompt, customer_order])\n",
    "\n",
    "print(response.text)"
   ]
  },
  {
   "cell_type": "markdown",
   "id": "8557f545",
   "metadata": {
    "id": "021293096f08",
    "papermill": {
     "duration": 0.014588,
     "end_time": "2025-04-02T10:10:30.043855",
     "exception": false,
     "start_time": "2025-04-02T10:10:30.029267",
     "status": "completed"
    },
    "tags": []
   },
   "source": [
    "#### JSON mode\n",
    "\n",
    "To provide control over the schema, and to ensure that you only receive JSON (with no other text or markdown), you can use the Gemini API's [JSON mode](https://github.com/google-gemini/cookbook/blob/main/quickstarts/JSON_mode.ipynb). This forces the model to constrain decoding, such that token selection is guided by the supplied schema."
   ]
  },
  {
   "cell_type": "code",
   "execution_count": 24,
   "id": "dc1942e7",
   "metadata": {
    "execution": {
     "iopub.execute_input": "2025-04-02T10:10:30.075088Z",
     "iopub.status.busy": "2025-04-02T10:10:30.074666Z",
     "iopub.status.idle": "2025-04-02T10:10:30.953246Z",
     "shell.execute_reply": "2025-04-02T10:10:30.952275Z"
    },
    "id": "50fbf0260912",
    "papermill": {
     "duration": 0.896873,
     "end_time": "2025-04-02T10:10:30.955482",
     "exception": false,
     "start_time": "2025-04-02T10:10:30.058609",
     "status": "completed"
    },
    "tags": []
   },
   "outputs": [
    {
     "name": "stdout",
     "output_type": "stream",
     "text": [
      "{\n",
      "  \"size\": \"large\",\n",
      "  \"ingredients\": [\"apple\", \"chocolate\"],\n",
      "  \"type\": \"dessert\"\n",
      "}\n"
     ]
    }
   ],
   "source": [
    "import typing_extensions as typing\n",
    "\n",
    "class PizzaOrder(typing.TypedDict):\n",
    "    size: str\n",
    "    ingredients: list[str]\n",
    "    type: str\n",
    "\n",
    "\n",
    "response = client.models.generate_content(\n",
    "    model='gemini-2.0-flash',\n",
    "    config=types.GenerateContentConfig(\n",
    "        temperature=0.1,\n",
    "        response_mime_type=\"application/json\",\n",
    "        response_schema=PizzaOrder,\n",
    "    ),\n",
    "    contents=\"Can I have a large dessert pizza with apple and chocolate\")\n",
    "\n",
    "print(response.text)"
   ]
  },
  {
   "cell_type": "markdown",
   "id": "0f8d2a0e",
   "metadata": {
    "id": "4a93e338e57c",
    "papermill": {
     "duration": 0.014644,
     "end_time": "2025-04-02T10:10:30.984757",
     "exception": false,
     "start_time": "2025-04-02T10:10:30.970113",
     "status": "completed"
    },
    "tags": []
   },
   "source": [
    "### Chain of Thought (CoT)\n",
    "\n",
    "Direct prompting on LLMs can return answers quickly and (in terms of output token usage) efficiently, but they can be prone to hallucination. The answer may \"look\" correct (in terms of language and syntax) but is incorrect in terms of factuality and reasoning.\n",
    "\n",
    "Chain-of-Thought prompting is a technique where you instruct the model to output intermediate reasoning steps, and it typically gets better results, especially when combined with few-shot examples. It is worth noting that this technique doesn't completely eliminate hallucinations, and that it tends to cost more to run, due to the increased token count.\n",
    "\n",
    "Models like the Gemini family are trained to be \"chatty\" or \"thoughtful\" and will provide reasoning steps without prompting, so for this simple example you can ask the model to be more direct in the prompt to force a non-reasoning response. Try re-running this step if the model gets lucky and gets the answer correct on the first try."
   ]
  },
  {
   "cell_type": "code",
   "execution_count": 25,
   "id": "02f05082",
   "metadata": {
    "execution": {
     "iopub.execute_input": "2025-04-02T10:10:31.016265Z",
     "iopub.status.busy": "2025-04-02T10:10:31.015896Z",
     "iopub.status.idle": "2025-04-02T10:10:31.550612Z",
     "shell.execute_reply": "2025-04-02T10:10:31.549347Z"
    },
    "id": "5715555db1c1",
    "papermill": {
     "duration": 0.553995,
     "end_time": "2025-04-02T10:10:31.553213",
     "exception": false,
     "start_time": "2025-04-02T10:10:30.999218",
     "status": "completed"
    },
    "tags": []
   },
   "outputs": [
    {
     "name": "stdout",
     "output_type": "stream",
     "text": [
      "52\n",
      "\n"
     ]
    }
   ],
   "source": [
    "prompt = \"\"\"When I was 4 years old, my partner was 3 times my age. Now, I\n",
    "am 20 years old. How old is my partner? Return the answer directly.\"\"\"\n",
    "\n",
    "response = client.models.generate_content(\n",
    "    model='gemini-2.0-flash',\n",
    "    contents=prompt)\n",
    "\n",
    "print(response.text)"
   ]
  },
  {
   "cell_type": "markdown",
   "id": "32e5c4f0",
   "metadata": {
    "id": "e12b19677bfd",
    "papermill": {
     "duration": 0.014226,
     "end_time": "2025-04-02T10:10:31.582059",
     "exception": false,
     "start_time": "2025-04-02T10:10:31.567833",
     "status": "completed"
    },
    "tags": []
   },
   "source": [
    "Now try the same approach, but indicate to the model that it should \"think step by step\"."
   ]
  },
  {
   "cell_type": "code",
   "execution_count": 26,
   "id": "ff11d5fc",
   "metadata": {
    "execution": {
     "iopub.execute_input": "2025-04-02T10:10:31.613701Z",
     "iopub.status.busy": "2025-04-02T10:10:31.613283Z",
     "iopub.status.idle": "2025-04-02T10:10:33.548558Z",
     "shell.execute_reply": "2025-04-02T10:10:33.547385Z"
    },
    "id": "ffd7536a481f",
    "papermill": {
     "duration": 1.95432,
     "end_time": "2025-04-02T10:10:33.551156",
     "exception": false,
     "start_time": "2025-04-02T10:10:31.596836",
     "status": "completed"
    },
    "tags": []
   },
   "outputs": [
    {
     "data": {
      "text/markdown": [
       "Here's how to solve this problem step-by-step:\n",
       "\n",
       "1. **Find the age difference:** When you were 4, your partner was 3 times your age, meaning they were 4 * 3 = 12 years old.\n",
       "2. **Calculate the age difference:** The age difference between you and your partner is 12 - 4 = 8 years.\n",
       "3. **Determine your partner's current age:** Since the age difference remains constant, your partner is always 8 years older than you. Now that you are 20, your partner is 20 + 8 = 28 years old.\n",
       "\n",
       "**Therefore, your partner is currently 28 years old.**\n"
      ],
      "text/plain": [
       "<IPython.core.display.Markdown object>"
      ]
     },
     "execution_count": 26,
     "metadata": {},
     "output_type": "execute_result"
    }
   ],
   "source": [
    "prompt = \"\"\"When I was 4 years old, my partner was 3 times my age. Now,\n",
    "I am 20 years old. How old is my partner? Let's think step by step.\"\"\"\n",
    "\n",
    "response = client.models.generate_content(\n",
    "    model='gemini-2.0-flash',\n",
    "    contents=prompt)\n",
    "\n",
    "Markdown(response.text)"
   ]
  },
  {
   "cell_type": "markdown",
   "id": "1a2bb1f4",
   "metadata": {
    "id": "oiLgBQJj0V53",
    "papermill": {
     "duration": 0.014507,
     "end_time": "2025-04-02T10:10:33.580748",
     "exception": false,
     "start_time": "2025-04-02T10:10:33.566241",
     "status": "completed"
    },
    "tags": []
   },
   "source": [
    "### ReAct: Reason and act\n",
    "\n",
    "In this example you will run a ReAct prompt directly in the Gemini API and perform the searching steps yourself. As this prompt follows a well-defined structure, there are frameworks available that wrap the prompt into easier-to-use APIs that make tool calls automatically, such as the LangChain example from the \"Prompting\" whitepaper.\n",
    "\n",
    "To try this out with the Wikipedia search engine, check out the [Searching Wikipedia with ReAct](https://github.com/google-gemini/cookbook/blob/main/examples/Search_Wikipedia_using_ReAct.ipynb) cookbook example.\n",
    "\n",
    "\n",
    "> Note: The prompt and in-context examples used here are from [https://github.com/ysymyth/ReAct](https://github.com/ysymyth/ReAct) which is published under an [MIT license](https://opensource.org/licenses/MIT), Copyright (c) 2023 Shunyu Yao.\n",
    "\n",
    "<table align=left>\n",
    "  <td>\n",
    "    <a target=\"_blank\" href=\"https://aistudio.google.com/prompts/18oo63Lwosd-bQ6Ay51uGogB3Wk3H8XMO\"><img src=\"https://ai.google.dev/site-assets/images/marketing/home/icon-ais.png\" style=\"height: 24px\" height=24/> Open in AI Studio</a>\n",
    "  </td>\n",
    "</table>\n"
   ]
  },
  {
   "cell_type": "code",
   "execution_count": 27,
   "id": "b55cb8ca",
   "metadata": {
    "execution": {
     "iopub.execute_input": "2025-04-02T10:10:33.611895Z",
     "iopub.status.busy": "2025-04-02T10:10:33.611523Z",
     "iopub.status.idle": "2025-04-02T10:10:33.618441Z",
     "shell.execute_reply": "2025-04-02T10:10:33.617237Z"
    },
    "id": "cBgyNJ5z0VSs",
    "papermill": {
     "duration": 0.025505,
     "end_time": "2025-04-02T10:10:33.620864",
     "exception": false,
     "start_time": "2025-04-02T10:10:33.595359",
     "status": "completed"
    },
    "tags": []
   },
   "outputs": [],
   "source": [
    "model_instructions = \"\"\"\n",
    "Solve a question answering task with interleaving Thought, Action, Observation steps. Thought can reason about the current situation,\n",
    "Observation is understanding relevant information from an Action's output and Action can be one of three types:\n",
    " (1) <search>entity</search>, which searches the exact entity on Wikipedia and returns the first paragraph if it exists. If not, it\n",
    "     will return some similar entities to search and you can try to search the information from those topics.\n",
    " (2) <lookup>keyword</lookup>, which returns the next sentence containing keyword in the current context. This only does exact matches,\n",
    "     so keep your searches short.\n",
    " (3) <finish>answer</finish>, which returns the answer and finishes the task.\n",
    "\"\"\"\n",
    "\n",
    "example1 = \"\"\"Question\n",
    "Musician and satirist Allie Goertz wrote a song about the \"The Simpsons\" character Milhouse, who Matt Groening named after who?\n",
    "\n",
    "Thought 1\n",
    "The question simplifies to \"The Simpsons\" character Milhouse is named after who. I only need to search Milhouse and find who it is named after.\n",
    "\n",
    "Action 1\n",
    "<search>Milhouse</search>\n",
    "\n",
    "Observation 1\n",
    "Milhouse Mussolini Van Houten is a recurring character in the Fox animated television series The Simpsons voiced by Pamela Hayden and created by Matt Groening.\n",
    "\n",
    "Thought 2\n",
    "The paragraph does not tell who Milhouse is named after, maybe I can look up \"named after\".\n",
    "\n",
    "Action 2\n",
    "<lookup>named after</lookup>\n",
    "\n",
    "Observation 2\n",
    "Milhouse was named after U.S. president Richard Nixon, whose middle name was Milhous.\n",
    "\n",
    "Thought 3\n",
    "Milhouse was named after U.S. president Richard Nixon, so the answer is Richard Nixon.\n",
    "\n",
    "Action 3\n",
    "<finish>Richard Nixon</finish>\n",
    "\"\"\"\n",
    "\n",
    "example2 = \"\"\"Question\n",
    "What is the elevation range for the area that the eastern sector of the Colorado orogeny extends into?\n",
    "\n",
    "Thought 1\n",
    "I need to search Colorado orogeny, find the area that the eastern sector of the Colorado orogeny extends into, then find the elevation range of the area.\n",
    "\n",
    "Action 1\n",
    "<search>Colorado orogeny</search>\n",
    "\n",
    "Observation 1\n",
    "The Colorado orogeny was an episode of mountain building (an orogeny) in Colorado and surrounding areas.\n",
    "\n",
    "Thought 2\n",
    "It does not mention the eastern sector. So I need to look up eastern sector.\n",
    "\n",
    "Action 2\n",
    "<lookup>eastern sector</lookup>\n",
    "\n",
    "Observation 2\n",
    "The eastern sector extends into the High Plains and is called the Central Plains orogeny.\n",
    "\n",
    "Thought 3\n",
    "The eastern sector of Colorado orogeny extends into the High Plains. So I need to search High Plains and find its elevation range.\n",
    "\n",
    "Action 3\n",
    "<search>High Plains</search>\n",
    "\n",
    "Observation 3\n",
    "High Plains refers to one of two distinct land regions\n",
    "\n",
    "Thought 4\n",
    "I need to instead search High Plains (United States).\n",
    "\n",
    "Action 4\n",
    "<search>High Plains (United States)</search>\n",
    "\n",
    "Observation 4\n",
    "The High Plains are a subregion of the Great Plains. From east to west, the High Plains rise in elevation from around 1,800 to 7,000 ft (550 to 2,130m).\n",
    "\n",
    "Thought 5\n",
    "High Plains rise in elevation from around 1,800 to 7,000 ft, so the answer is 1,800 to 7,000 ft.\n",
    "\n",
    "Action 5\n",
    "<finish>1,800 to 7,000 ft</finish>\n",
    "\"\"\"\n",
    "\n",
    "# Come up with more examples yourself, or take a look through https://github.com/ysymyth/ReAct/"
   ]
  },
  {
   "cell_type": "markdown",
   "id": "56a847dd",
   "metadata": {
    "id": "C3wbfstjTgey",
    "papermill": {
     "duration": 0.014737,
     "end_time": "2025-04-02T10:10:33.650636",
     "exception": false,
     "start_time": "2025-04-02T10:10:33.635899",
     "status": "completed"
    },
    "tags": []
   },
   "source": [
    "To capture a single step at a time, while ignoring any hallucinated Observation steps, you will use `stop_sequences` to end the generation process. The steps are `Thought`, `Action`, `Observation`, in that order."
   ]
  },
  {
   "cell_type": "code",
   "execution_count": 28,
   "id": "a0d3105b",
   "metadata": {
    "execution": {
     "iopub.execute_input": "2025-04-02T10:10:33.684235Z",
     "iopub.status.busy": "2025-04-02T10:10:33.683877Z",
     "iopub.status.idle": "2025-04-02T10:10:34.365192Z",
     "shell.execute_reply": "2025-04-02T10:10:34.363836Z"
    },
    "id": "8mxrXRkRTdXm",
    "papermill": {
     "duration": 0.700971,
     "end_time": "2025-04-02T10:10:34.367700",
     "exception": false,
     "start_time": "2025-04-02T10:10:33.666729",
     "status": "completed"
    },
    "tags": []
   },
   "outputs": [
    {
     "name": "stdout",
     "output_type": "stream",
     "text": [
      "Thought 1\n",
      "I need to find the Transformers NLP paper, then find the list of authors, and then find the youngest author.\n",
      "\n",
      "Action 1\n",
      "<search>transformers NLP paper</search>\n",
      "\n"
     ]
    }
   ],
   "source": [
    "question = \"\"\"Question\n",
    "Who was the youngest author listed on the transformers NLP paper?\n",
    "\"\"\"\n",
    "\n",
    "# You will perform the Action; so generate up to, but not including, the Observation.\n",
    "react_config = types.GenerateContentConfig(\n",
    "    stop_sequences=[\"\\nObservation\"],\n",
    "    system_instruction=model_instructions + example1 + example2,\n",
    ")\n",
    "\n",
    "# Create a chat that has the model instructions and examples pre-seeded.\n",
    "react_chat = client.chats.create(\n",
    "    model='gemini-2.0-flash',\n",
    "    config=react_config,\n",
    ")\n",
    "\n",
    "resp = react_chat.send_message(question)\n",
    "print(resp.text)"
   ]
  },
  {
   "cell_type": "markdown",
   "id": "2b31dead",
   "metadata": {
    "id": "aW2PIdLbVv3l",
    "papermill": {
     "duration": 0.015185,
     "end_time": "2025-04-02T10:10:34.397805",
     "exception": false,
     "start_time": "2025-04-02T10:10:34.382620",
     "status": "completed"
    },
    "tags": []
   },
   "source": [
    "Now you can perform this research yourself and supply it back to the model."
   ]
  },
  {
   "cell_type": "code",
   "execution_count": 29,
   "id": "778e8ebd",
   "metadata": {
    "execution": {
     "iopub.execute_input": "2025-04-02T10:10:34.428913Z",
     "iopub.status.busy": "2025-04-02T10:10:34.428523Z",
     "iopub.status.idle": "2025-04-02T10:10:35.442474Z",
     "shell.execute_reply": "2025-04-02T10:10:35.441209Z"
    },
    "id": "mLMc0DZaV9g2",
    "papermill": {
     "duration": 1.032678,
     "end_time": "2025-04-02T10:10:35.445245",
     "exception": false,
     "start_time": "2025-04-02T10:10:34.412567",
     "status": "completed"
    },
    "tags": []
   },
   "outputs": [
    {
     "name": "stdout",
     "output_type": "stream",
     "text": [
      "Thought 2\n",
      "Now I have the list of authors: Ashish Vaswani, Noam Shazeer, Niki Parmar, Jakob Uszkoreit, Llion Jones, Aidan N. Gomez, Lukasz Kaiser, Illia Polosukhin. I need to find the youngest author. I can start by searching for each author to find their birth date.\n",
      "\n",
      "Action 2\n",
      "<search>Ashish Vaswani</search>\n",
      "\n"
     ]
    }
   ],
   "source": [
    "observation = \"\"\"Observation 1\n",
    "[1706.03762] Attention Is All You Need\n",
    "Ashish Vaswani, Noam Shazeer, Niki Parmar, Jakob Uszkoreit, Llion Jones, Aidan N. Gomez, Lukasz Kaiser, Illia Polosukhin\n",
    "We propose a new simple network architecture, the Transformer, based solely on attention mechanisms, dispensing with recurrence and convolutions entirely.\n",
    "\"\"\"\n",
    "resp = react_chat.send_message(observation)\n",
    "print(resp.text)"
   ]
  },
  {
   "cell_type": "markdown",
   "id": "5c43c7ca",
   "metadata": {
    "id": "bo0tzf4nX6dA",
    "papermill": {
     "duration": 0.0151,
     "end_time": "2025-04-02T10:10:35.475738",
     "exception": false,
     "start_time": "2025-04-02T10:10:35.460638",
     "status": "completed"
    },
    "tags": []
   },
   "source": [
    "This process repeats until the `<finish>` action is reached. You can continue running this yourself if you like, or try the [Wikipedia example](https://github.com/google-gemini/cookbook/blob/main/examples/Search_Wikipedia_using_ReAct.ipynb) to see a fully automated ReAct system at work."
   ]
  },
  {
   "cell_type": "markdown",
   "id": "8f57f0e7",
   "metadata": {
    "papermill": {
     "duration": 0.015144,
     "end_time": "2025-04-02T10:10:35.506325",
     "exception": false,
     "start_time": "2025-04-02T10:10:35.491181",
     "status": "completed"
    },
    "tags": []
   },
   "source": [
    "## Thinking mode\n",
    "\n",
    "The experiemental Gemini Flash 2.0 \"Thinking\" model has been trained to generate the \"thinking process\" the model goes through as part of its response. As a result, the Flash Thinking model is capable of stronger reasoning capabilities in its responses.\n",
    "\n",
    "Using a \"thinking mode\" model can provide you with high-quality responses without needing specialised prompting like the previous approaches. One reason this technique is effective is that you induce the model to generate relevant information (\"brainstorming\", or \"thoughts\") that is then used as part of the context in which the final response is generated.\n",
    "\n",
    "Note that when you use the API, you get the final response from the model, but the thoughts are not captured. To see the intermediate thoughts, try out [the thinking mode model in AI Studio](https://aistudio.google.com/prompts/new_chat?model=gemini-2.0-flash-thinking-exp-01-21).\n",
    "\n",
    "<table align=left>\n",
    "  <td>\n",
    "    <a target=\"_blank\" href=\"https://aistudio.google.com/prompts/1Z991SV7lZZZqioOiqIUPv9a9ix-ws4zk\"><img src=\"https://ai.google.dev/site-assets/images/marketing/home/icon-ais.png\" style=\"height: 24px\" height=24/> Open in AI Studio</a>\n",
    "  </td>\n",
    "</table>"
   ]
  },
  {
   "cell_type": "code",
   "execution_count": 30,
   "id": "64434cda",
   "metadata": {
    "execution": {
     "iopub.execute_input": "2025-04-02T10:10:35.539875Z",
     "iopub.status.busy": "2025-04-02T10:10:35.538856Z",
     "iopub.status.idle": "2025-04-02T10:10:42.509675Z",
     "shell.execute_reply": "2025-04-02T10:10:42.508413Z"
    },
    "papermill": {
     "duration": 6.991753,
     "end_time": "2025-04-02T10:10:42.513513",
     "exception": false,
     "start_time": "2025-04-02T10:10:35.521760",
     "status": "completed"
    },
    "tags": []
   },
   "outputs": [
    {
     "data": {
      "text/markdown": [
       "Based on the author list of the groundbreaking paper \"Attention is All You Need\" (which is considered *the* \"transformers NLP paper\"), the youngest author is likely **Aidan N. Gomez**.\n",
       "\n",
       "Here's why:\n",
       "\n",
       "* **\"Attention is All You Need\" Authors:** The paper was authored by:\n",
       "    * Ashish Vaswani\n",
       "    * Noam Shazeer\n",
       "    * Niki Parmar\n",
       "    * Jakob Uszkoreit\n",
       "    * Llion Jones\n",
       "    * Aidan N. Gomez\n",
       "    * Łukasz Kaiser\n",
       "    * Illia Polosukhin\n",
       "\n",
       "* **Context Clues:**  While precise birthdates for all authors aren't readily available publicly, Aidan N. Gomez is often cited as being a student at the University of Oxford when the paper was published in 2017.  The other authors were primarily researchers at Google Brain, suggesting they were likely more established in their careers, and therefore older.\n",
       "\n",
       "* **Further Evidence:** Aidan Gomez later co-founded Cohere, and articles about Cohere often mention his age at the time of the \"Attention is All You Need\" paper, emphasizing his youth and student status.\n",
       "\n",
       "**Therefore, while we don't have definitive birthdates to compare, all indicators point to Aidan N. Gomez being the youngest author listed on the \"Attention is All You Need\" paper.**\n",
       "\n",
       "It's important to note that \"youngest\" is relative to the time of publication of the paper (2017)."
      ],
      "text/plain": [
       "<IPython.core.display.Markdown object>"
      ]
     },
     "execution_count": 30,
     "metadata": {},
     "output_type": "execute_result"
    }
   ],
   "source": [
    "import io\n",
    "from IPython.display import Markdown, clear_output\n",
    "\n",
    "\n",
    "response = client.models.generate_content_stream(\n",
    "    model='gemini-2.0-flash-thinking-exp',\n",
    "    contents='Who was the youngest author listed on the transformers NLP paper?',\n",
    ")\n",
    "\n",
    "buf = io.StringIO()\n",
    "for chunk in response:\n",
    "    buf.write(chunk.text)\n",
    "    # Display the response as it is streamed\n",
    "    print(chunk.text, end='')\n",
    "\n",
    "# And then render the finished response as formatted markdown.\n",
    "clear_output()\n",
    "Markdown(buf.getvalue())"
   ]
  },
  {
   "cell_type": "markdown",
   "id": "c08acdf4",
   "metadata": {
    "id": "jPiZ_eIIaVPt",
    "papermill": {
     "duration": 0.01862,
     "end_time": "2025-04-02T10:10:42.557581",
     "exception": false,
     "start_time": "2025-04-02T10:10:42.538961",
     "status": "completed"
    },
    "tags": []
   },
   "source": [
    "## Code prompting"
   ]
  },
  {
   "cell_type": "markdown",
   "id": "8ac2278e",
   "metadata": {
    "id": "ZinKamwXeR6C",
    "papermill": {
     "duration": 0.014757,
     "end_time": "2025-04-02T10:10:42.587994",
     "exception": false,
     "start_time": "2025-04-02T10:10:42.573237",
     "status": "completed"
    },
    "tags": []
   },
   "source": [
    "### Generating code\n",
    "\n",
    "The Gemini family of models can be used to generate code, configuration and scripts. Generating code can be helpful when learning to code, learning a new language or for rapidly generating a first draft.\n",
    "\n",
    "It's important to be aware that since LLMs can make mistakes, and can repeat training data, it's essential to read and test your code first, and comply with any relevant licenses.\n",
    "\n",
    "<table align=left>\n",
    "  <td>\n",
    "    <a target=\"_blank\" href=\"https://aistudio.google.com/prompts/1YX71JGtzDjXQkgdes8bP6i3oH5lCRKxv\"><img src=\"https://ai.google.dev/site-assets/images/marketing/home/icon-ais.png\" style=\"height: 24px\" height=24/> Open in AI Studio</a>\n",
    "  </td>\n",
    "</table>"
   ]
  },
  {
   "cell_type": "code",
   "execution_count": 31,
   "id": "af38357c",
   "metadata": {
    "execution": {
     "iopub.execute_input": "2025-04-02T10:10:42.619640Z",
     "iopub.status.busy": "2025-04-02T10:10:42.619233Z",
     "iopub.status.idle": "2025-04-02T10:10:43.433173Z",
     "shell.execute_reply": "2025-04-02T10:10:43.432040Z"
    },
    "id": "fOQP9pqmeUO1",
    "papermill": {
     "duration": 0.832713,
     "end_time": "2025-04-02T10:10:43.435734",
     "exception": false,
     "start_time": "2025-04-02T10:10:42.603021",
     "status": "completed"
    },
    "tags": []
   },
   "outputs": [
    {
     "data": {
      "text/markdown": [
       "```python\n",
       "def factorial(n):\n",
       "  \"\"\"\n",
       "  Calculates the factorial of a non-negative integer.\n",
       "\n",
       "  Args:\n",
       "    n: A non-negative integer.\n",
       "\n",
       "  Returns:\n",
       "    The factorial of n.\n",
       "  \"\"\"\n",
       "  if n == 0:\n",
       "    return 1\n",
       "  else:\n",
       "    return n * factorial(n-1)\n",
       "```\n"
      ],
      "text/plain": [
       "<IPython.core.display.Markdown object>"
      ]
     },
     "execution_count": 31,
     "metadata": {},
     "output_type": "execute_result"
    }
   ],
   "source": [
    "# The Gemini models love to talk, so it helps to specify they stick to the code if that\n",
    "# is all that you want.\n",
    "code_prompt = \"\"\"\n",
    "Write a Python function to calculate the factorial of a number. No explanation, provide only the code.\n",
    "\"\"\"\n",
    "\n",
    "response = client.models.generate_content(\n",
    "    model='gemini-2.0-flash',\n",
    "    config=types.GenerateContentConfig(\n",
    "        temperature=1,\n",
    "        top_p=1,\n",
    "        max_output_tokens=1024,\n",
    "    ),\n",
    "    contents=code_prompt)\n",
    "\n",
    "Markdown(response.text)"
   ]
  },
  {
   "cell_type": "markdown",
   "id": "40bf2e69",
   "metadata": {
    "id": "wlBMWSFhgVRQ",
    "papermill": {
     "duration": 0.015125,
     "end_time": "2025-04-02T10:10:43.466970",
     "exception": false,
     "start_time": "2025-04-02T10:10:43.451845",
     "status": "completed"
    },
    "tags": []
   },
   "source": [
    "### Code execution\n",
    "\n",
    "The Gemini API can automatically run generated code too, and will return the output.\n",
    "\n",
    "<table align=left>\n",
    "  <td>\n",
    "    <a target=\"_blank\" href=\"https://aistudio.google.com/prompts/11veFr_VYEwBWcLkhNLr-maCG0G8sS_7Z\"><img src=\"https://ai.google.dev/site-assets/images/marketing/home/icon-ais.png\" style=\"height: 24px\" height=24/> Open in AI Studio</a>\n",
    "  </td>\n",
    "</table>"
   ]
  },
  {
   "cell_type": "code",
   "execution_count": 32,
   "id": "c0c472c5",
   "metadata": {
    "execution": {
     "iopub.execute_input": "2025-04-02T10:10:43.499488Z",
     "iopub.status.busy": "2025-04-02T10:10:43.499089Z",
     "iopub.status.idle": "2025-04-02T10:10:45.668351Z",
     "shell.execute_reply": "2025-04-02T10:10:45.666945Z"
    },
    "id": "jT3OfWYfhjRL",
    "papermill": {
     "duration": 2.188646,
     "end_time": "2025-04-02T10:10:45.670900",
     "exception": false,
     "start_time": "2025-04-02T10:10:43.482254",
     "status": "completed"
    },
    "tags": []
   },
   "outputs": [
    {
     "name": "stdout",
     "output_type": "stream",
     "text": [
      "{'text': 'Okay, I can do that. First, I need to generate the first 14 odd '\n",
      "         \"prime numbers. I'll then calculate their sum.\\n\"\n",
      "         '\\n'\n",
      "         'A prime number is a natural number greater than 1 that has no '\n",
      "         'positive divisors other than 1 and itself. Odd prime numbers are '\n",
      "         'prime numbers that are not divisible by 2 (other than 2 itself). The '\n",
      "         'first few prime numbers are 2, 3, 5, 7, 11, and so on.\\n'\n",
      "         '\\n'\n",
      "         'Since I need the first 14 *odd* prime numbers, I should exclude 2.\\n'\n",
      "         '\\n'}\n",
      "-----\n",
      "{'executable_code': {'code': 'primes = [3, 5, 7, 11, 13, 17, 19, 23, 29, 31, '\n",
      "                             '37, 41, 43, 47]\\n'\n",
      "                             'sum_of_primes = sum(primes)\\n'\n",
      "                             \"print(f'{primes=}')\\n\"\n",
      "                             \"print(f'{sum_of_primes=}')\\n\",\n",
      "                     'language': 'PYTHON'}}\n",
      "-----\n",
      "{'code_execution_result': {'outcome': 'OUTCOME_OK',\n",
      "                           'output': 'primes=[3, 5, 7, 11, 13, 17, 19, 23, 29, '\n",
      "                                     '31, 37, 41, 43, 47]\\n'\n",
      "                                     'sum_of_primes=326\\n'}}\n",
      "-----\n",
      "{'text': 'The first 14 odd prime numbers are 3, 5, 7, 11, 13, 17, 19, 23, 29, '\n",
      "         '31, 37, 41, 43, and 47.\\n'\n",
      "         '\\n'\n",
      "         'Their sum is 326.\\n'}\n",
      "-----\n"
     ]
    }
   ],
   "source": [
    "from pprint import pprint\n",
    "\n",
    "config = types.GenerateContentConfig(\n",
    "    tools=[types.Tool(code_execution=types.ToolCodeExecution())],\n",
    ")\n",
    "\n",
    "code_exec_prompt = \"\"\"\n",
    "Generate the first 14 odd prime numbers, then calculate their sum.\n",
    "\"\"\"\n",
    "\n",
    "response = client.models.generate_content(\n",
    "    model='gemini-2.0-flash',\n",
    "    config=config,\n",
    "    contents=code_exec_prompt)\n",
    "\n",
    "for part in response.candidates[0].content.parts:\n",
    "  pprint(part.to_json_dict())\n",
    "  print(\"-----\")"
   ]
  },
  {
   "cell_type": "markdown",
   "id": "ffce8a9d",
   "metadata": {
    "id": "ZspT1GSkjG6d",
    "papermill": {
     "duration": 0.015429,
     "end_time": "2025-04-02T10:10:45.703834",
     "exception": false,
     "start_time": "2025-04-02T10:10:45.688405",
     "status": "completed"
    },
    "tags": []
   },
   "source": [
    "This response contains multiple parts, including an opening and closing text part that represent regular responses, an `executable_code` part that represents generated code and a `code_execution_result` part that represents the results from running the generated code.\n",
    "\n",
    "You can explore them individually."
   ]
  },
  {
   "cell_type": "code",
   "execution_count": 33,
   "id": "49db6df5",
   "metadata": {
    "execution": {
     "iopub.execute_input": "2025-04-02T10:10:45.738208Z",
     "iopub.status.busy": "2025-04-02T10:10:45.737829Z",
     "iopub.status.idle": "2025-04-02T10:10:45.751789Z",
     "shell.execute_reply": "2025-04-02T10:10:45.750808Z"
    },
    "papermill": {
     "duration": 0.033877,
     "end_time": "2025-04-02T10:10:45.753864",
     "exception": false,
     "start_time": "2025-04-02T10:10:45.719987",
     "status": "completed"
    },
    "tags": []
   },
   "outputs": [
    {
     "data": {
      "text/markdown": [
       "Okay, I can do that. First, I need to generate the first 14 odd prime numbers. I'll then calculate their sum.\n",
       "\n",
       "A prime number is a natural number greater than 1 that has no positive divisors other than 1 and itself. Odd prime numbers are prime numbers that are not divisible by 2 (other than 2 itself). The first few prime numbers are 2, 3, 5, 7, 11, and so on.\n",
       "\n",
       "Since I need the first 14 *odd* prime numbers, I should exclude 2.\n",
       "\n"
      ],
      "text/plain": [
       "<IPython.core.display.Markdown object>"
      ]
     },
     "metadata": {},
     "output_type": "display_data"
    },
    {
     "data": {
      "text/markdown": [
       "```python\n",
       "primes = [3, 5, 7, 11, 13, 17, 19, 23, 29, 31, 37, 41, 43, 47]\n",
       "sum_of_primes = sum(primes)\n",
       "print(f'{primes=}')\n",
       "print(f'{sum_of_primes=}')\n",
       "\n",
       "```"
      ],
      "text/plain": [
       "<IPython.core.display.Markdown object>"
      ]
     },
     "metadata": {},
     "output_type": "display_data"
    },
    {
     "data": {
      "text/markdown": [
       "```\n",
       "primes=[3, 5, 7, 11, 13, 17, 19, 23, 29, 31, 37, 41, 43, 47]\n",
       "sum_of_primes=326\n",
       "\n",
       "```"
      ],
      "text/plain": [
       "<IPython.core.display.Markdown object>"
      ]
     },
     "metadata": {},
     "output_type": "display_data"
    },
    {
     "data": {
      "text/markdown": [
       "The first 14 odd prime numbers are 3, 5, 7, 11, 13, 17, 19, 23, 29, 31, 37, 41, 43, and 47.\n",
       "\n",
       "Their sum is 326.\n"
      ],
      "text/plain": [
       "<IPython.core.display.Markdown object>"
      ]
     },
     "metadata": {},
     "output_type": "display_data"
    }
   ],
   "source": [
    "for part in response.candidates[0].content.parts:\n",
    "    if part.text:\n",
    "        display(Markdown(part.text))\n",
    "    elif part.executable_code:\n",
    "        display(Markdown(f'```python\\n{part.executable_code.code}\\n```'))\n",
    "    elif part.code_execution_result:\n",
    "        if part.code_execution_result.outcome != 'OUTCOME_OK':\n",
    "            display(Markdown(f'## Status {part.code_execution_result.outcome}'))\n",
    "\n",
    "        display(Markdown(f'```\\n{part.code_execution_result.output}\\n```'))"
   ]
  },
  {
   "cell_type": "markdown",
   "id": "386ac418",
   "metadata": {
    "id": "1gUX8QzCj4d5",
    "papermill": {
     "duration": 0.017781,
     "end_time": "2025-04-02T10:10:45.789458",
     "exception": false,
     "start_time": "2025-04-02T10:10:45.771677",
     "status": "completed"
    },
    "tags": []
   },
   "source": [
    "### Explaining code\n",
    "\n",
    "The Gemini family of models can explain code to you too. In this example, you pass a [bash script](https://github.com/magicmonty/bash-git-prompt) and ask some questions.\n",
    "\n",
    "<table align=left>\n",
    "  <td>\n",
    "    <a target=\"_blank\" href=\"https://aistudio.google.com/prompts/1N7LGzWzCYieyOf_7bAG4plrmkpDNmUyb\"><img src=\"https://ai.google.dev/site-assets/images/marketing/home/icon-ais.png\" style=\"height: 24px\" height=24/> Open in AI Studio</a>\n",
    "  </td>\n",
    "</table>"
   ]
  },
  {
   "cell_type": "code",
   "execution_count": 34,
   "id": "c9c945fa",
   "metadata": {
    "execution": {
     "iopub.execute_input": "2025-04-02T10:10:45.823558Z",
     "iopub.status.busy": "2025-04-02T10:10:45.823179Z",
     "iopub.status.idle": "2025-04-02T10:10:49.061224Z",
     "shell.execute_reply": "2025-04-02T10:10:49.060022Z"
    },
    "id": "7_jPMMoxkIEb",
    "papermill": {
     "duration": 3.258584,
     "end_time": "2025-04-02T10:10:49.063770",
     "exception": false,
     "start_time": "2025-04-02T10:10:45.805186",
     "status": "completed"
    },
    "tags": []
   },
   "outputs": [
    {
     "data": {
      "text/markdown": [
       "This is a shell script (likely for Bash or Zsh) that customizes your command prompt to display Git repository information.  It's often called `bash-git-prompt` or something similar.\n",
       "\n",
       "Here's a breakdown:\n",
       "\n",
       "*   **What it does:** The script modifies your command prompt to show information about the Git repository you're currently in, such as the branch name, the status of your working directory (e.g., changes staged, unstaged, or untracked files), and the relationship to remote branches (ahead, behind).\n",
       "\n",
       "*   **Why use it:**\n",
       "    *   **Git Status at a Glance:**  Instead of having to type `git status` frequently, you can see the status of your repository directly in your prompt. This makes it easier to keep track of your changes and understand the state of your project.\n",
       "    *   **Improved Workflow:**  Having Git information readily available in the prompt can significantly speed up your workflow and reduce the need to run Git commands repeatedly.\n",
       "    *   **Customization:**  The script is designed to be customizable.  You can change colors, symbols, and the information displayed to suit your preferences.\n",
       "    *   **Visual Cues:** It often uses colors to represent the Git repository's state such as modified vs committed files.\n",
       "*   **Key functionalities:**\n",
       "    * Asynchronously fetches remote git information, to avoid prompt lagging.\n",
       "    * Uses themes for colors and symbols.\n",
       "    * Supports different shell (bash and zsh).\n",
       "    * Manages `.bash-git-rc` for repository-specific configuration.\n",
       "*   **Installation:** You would typically source this script in your `.bashrc` or `.zshrc` file. For example, you might add a line like `source /path/to/this/script.sh` to your shell configuration file.\n",
       "\n",
       "In essence, this script enhances your command-line experience when working with Git repositories, providing immediate feedback about the state of your project directly in your prompt.\n"
      ],
      "text/plain": [
       "<IPython.core.display.Markdown object>"
      ]
     },
     "execution_count": 34,
     "metadata": {},
     "output_type": "execute_result"
    }
   ],
   "source": [
    "file_contents = !curl https://raw.githubusercontent.com/magicmonty/bash-git-prompt/refs/heads/master/gitprompt.sh\n",
    "\n",
    "explain_prompt = f\"\"\"\n",
    "Please explain what this file does at a very high level. What is it, and why would I use it?\n",
    "\n",
    "```\n",
    "{file_contents}\n",
    "```\n",
    "\"\"\"\n",
    "\n",
    "response = client.models.generate_content(\n",
    "    model='gemini-2.0-flash',\n",
    "    contents=explain_prompt)\n",
    "\n",
    "Markdown(response.text)"
   ]
  },
  {
   "cell_type": "markdown",
   "id": "a9f78a3f",
   "metadata": {
    "id": "2a8266d97ce5",
    "papermill": {
     "duration": 0.015757,
     "end_time": "2025-04-02T10:10:49.095545",
     "exception": false,
     "start_time": "2025-04-02T10:10:49.079788",
     "status": "completed"
    },
    "tags": []
   },
   "source": [
    "## Learn more\n",
    "\n",
    "To learn more about prompting in depth:\n",
    "\n",
    "* Check out the whitepaper issued with today's content,\n",
    "* Try out the apps listed at the top of this notebook ([TextFX](https://textfx.withgoogle.com/), [SQL Talk](https://sql-talk-r5gdynozbq-uc.a.run.app/) and [NotebookLM](https://notebooklm.google/)),\n",
    "* Read the [Introduction to Prompting](https://ai.google.dev/gemini-api/docs/prompting-intro) from the Gemini API docs,\n",
    "* Explore the Gemini API's [prompt gallery](https://ai.google.dev/gemini-api/prompts) and try them out in AI Studio,\n",
    "* Check out the Gemini API cookbook for [inspirational examples](https://github.com/google-gemini/cookbook/blob/main/examples/) and [educational quickstarts](https://github.com/google-gemini/cookbook/blob/main/quickstarts/).\n",
    "\n",
    "Be sure to check out the codelabs on day 3 too, where you will explore some more advanced prompting with code execution.\n",
    "\n",
    "And please share anything exciting you have tried in the Discord!\n",
    "\n",
    "*- [Mark McD](https://linktr.ee/markmcd)*"
   ]
  }
 ],
 "metadata": {
  "colab": {
   "name": "day-1-prompting.ipynb",
   "toc_visible": true
  },
  "kaggle": {
   "accelerator": "none",
   "dataSources": [],
   "dockerImageVersionId": 30786,
   "isGpuEnabled": false,
   "isInternetEnabled": true,
   "language": "python",
   "sourceType": "notebook"
  },
  "kernelspec": {
   "display_name": "Python 3",
   "language": "python",
   "name": "python3"
  },
  "language_info": {
   "codemirror_mode": {
    "name": "ipython",
    "version": 3
   },
   "file_extension": ".py",
   "mimetype": "text/x-python",
   "name": "python",
   "nbconvert_exporter": "python",
   "pygments_lexer": "ipython3",
   "version": "3.10.14"
  },
  "papermill": {
   "default_parameters": {},
   "duration": 134.69915,
   "end_time": "2025-04-02T10:10:49.833189",
   "environment_variables": {},
   "exception": null,
   "input_path": "__notebook__.ipynb",
   "output_path": "__notebook__.ipynb",
   "parameters": {},
   "start_time": "2025-04-02T10:08:35.134039",
   "version": "2.6.0"
  }
 },
 "nbformat": 4,
 "nbformat_minor": 5
}
